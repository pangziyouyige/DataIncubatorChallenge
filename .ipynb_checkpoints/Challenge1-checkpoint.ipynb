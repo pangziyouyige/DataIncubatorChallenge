{
 "cells": [
  {
   "cell_type": "code",
   "execution_count": 1,
   "metadata": {
    "collapsed": true
   },
   "outputs": [],
   "source": [
    "import numpy as np\n",
    "import matplotlib.pyplot as plt"
   ]
  },
  {
   "cell_type": "code",
   "execution_count": 22,
   "metadata": {
    "collapsed": true
   },
   "outputs": [],
   "source": [
    "# Random walk is simulated to find the mean and standard deviation of the deviation D"
   ]
  },
  {
   "cell_type": "code",
   "execution_count": 23,
   "metadata": {
    "collapsed": true
   },
   "outputs": [],
   "source": [
    "# Define the fundtion antwalk. If the random number is 0, ant move towards north. If it is 1, the ant moves towards to east \n",
    "# The D for each random walk is a vector showing max(x/m−y/n,y/n−x/m) for all points (x,y) along the path.\n",
    "def antwalk(m, n):\n",
    "    \n",
    "    deviation = [0] # the deviation D of start point (0,0) is 0\n",
    "    x, y = 0, 0\n",
    "    xlist = [x]   # it is not necessary, but keep it here for plotting the trajectory \n",
    "    ylist = [y]   # it is not necessary, but keep it here for plotting the trajectory \n",
    "    \n",
    "    while x<m and y<n:\n",
    "        direction = np.random.randint(0,2) # random number determines the move direction\n",
    "        if direction ==0:\n",
    "            x += 1\n",
    "        else:\n",
    "            y += 1\n",
    "        xlist.append(x)\n",
    "        ylist.append(y)\n",
    "        deviation.append(max(x/m-y/n, y/n-x/m))  # generate the list of deivation D for each point\n",
    "        \n",
    "    while x==m and y<n:   # when the ant arrives x==m, it can only move towards north\n",
    "        y += 1\n",
    "        xlist.append(xlist[-1])\n",
    "        ylist.append(y)\n",
    "        deviation.append(max(x/m-y/n, y/n-x/m)) \n",
    "        \n",
    "    while x<m and y==n: # when the ant arrives y==n, it can only move towards east\n",
    "        x += 1\n",
    "        xlist.append(x)\n",
    "        ylist.append(ylist[-1])\n",
    "        deviation.append(max(x/m-y/n, y/n-x/m))\n",
    "        \n",
    "    return (deviation) # devaition is the vector of D\n"
   ]
  },
  {
   "cell_type": "code",
   "execution_count": 24,
   "metadata": {},
   "outputs": [
    {
     "data": {
      "text/plain": [
       "'\\nWhat is the mean of D when m=11 and n=7? \\nWhat is the standard deviation D when m=11 and n=7? \\n\\n'"
      ]
     },
     "execution_count": 24,
     "metadata": {},
     "output_type": "execute_result"
    }
   ],
   "source": [
    "'''\n",
    "What is the mean of D when m=11 and n=7? \n",
    "What is the standard deviation D when m=11 and n=7? \n",
    "\n",
    "'''"
   ]
  },
  {
   "cell_type": "code",
   "execution_count": 40,
   "metadata": {},
   "outputs": [
    {
     "name": "stdout",
     "output_type": "stream",
     "text": [
      "mean of D for m=11, n=7: 0.5176844156\n",
      "sd of D for m=11, n=7: 0.1814152182\n"
     ]
    }
   ],
   "source": [
    "# simulate the random walk for 10,000 times, and calulcate the mean and standard deviation of the deviation D \n",
    "total = [] # record the max of D vector for simulations\n",
    "np.random.seed(20) # set random number to reproduce the results\n",
    "\n",
    "for i in range(10000): # run 10,000 simulations\n",
    "    deviation= antwalk(11, 7)\n",
    "    total.append(np.max(deviation)) # use the max of deviation vector to represent D for each simulation\n",
    "\n",
    "print(\"mean of D for m=11, n=7: %.10f\" % np.mean(total))   # find the mean of D mean for all simulations\n",
    "print(\"sd of D for m=11, n=7: %.10f\" % np.std(total)) # find the mean of D sd for all simulations"
   ]
  },
  {
   "cell_type": "code",
   "execution_count": 41,
   "metadata": {},
   "outputs": [
    {
     "name": "stdout",
     "output_type": "stream",
     "text": [
      "mean of D for m=11, n=7: 0.5186868831\n",
      "sd of D for m=11, n=7: 0.1816748394\n"
     ]
    }
   ],
   "source": [
    "# simulate the random walk for 100,000 times, it can be seen that the mean and standard devaition do not change much\n",
    "total = [] \n",
    "np.random.seed(20) \n",
    "\n",
    "for i in range(100000): \n",
    "    deviation= antwalk(11, 7)\n",
    "    total.append(np.max(deviation)) \n",
    "\n",
    "print(\"mean of D for m=11, n=7: %.10f\" % np.mean(total))   \n",
    "print(\"sd of D for m=11, n=7: %.10f\" % np.std(total))"
   ]
  },
  {
   "cell_type": "code",
   "execution_count": null,
   "metadata": {
    "collapsed": true
   },
   "outputs": [],
   "source": [
    "'''\n",
    "What is the mean of D when m=23 and n=31? \n",
    "What is the standard deviation D when m=23 and n=31? \n",
    "\n",
    "'''"
   ]
  },
  {
   "cell_type": "code",
   "execution_count": 42,
   "metadata": {},
   "outputs": [
    {
     "name": "stdout",
     "output_type": "stream",
     "text": [
      "mean of D for m=23, n=31: 0.3537591304\n",
      "sd of D for m=23, n=31: 0.1371444975\n"
     ]
    }
   ],
   "source": [
    "# simulate the random walk for 100,000 using m=23 and n=31\n",
    "total = [] \n",
    "np.random.seed(20) \n",
    "\n",
    "for i in range(100000): \n",
    "    deviation= antwalk(23, 31)\n",
    "    total.append(np.max(deviation)) \n",
    "\n",
    "print(\"mean of D for m=23, n=31: %.10f\" % np.mean(total))   \n",
    "print(\"sd of D for m=23, n=31: %.10f\" % np.std(total))"
   ]
  },
  {
   "cell_type": "code",
   "execution_count": null,
   "metadata": {
    "collapsed": true
   },
   "outputs": [],
   "source": [
    "\"\"\"\n",
    "What is the conditional probability that D is greater than 0.6 given that it is greater than 0.2 when m=11 and n=7?\n",
    "\n",
    "\"\"\""
   ]
  },
  {
   "cell_type": "code",
   "execution_count": 47,
   "metadata": {},
   "outputs": [
    {
     "name": "stdout",
     "output_type": "stream",
     "text": [
      "conditional probability for m=11, n=7: 0.3278188194\n"
     ]
    }
   ],
   "source": [
    "# run 100,000 simulations\n",
    "# find the number of simulations with D (max of deviation) greater than 0.2 and the number of simulations with D greter than 0.6\n",
    "# calulate their ratio as the conditional probability\n",
    "\n",
    "total = [] \n",
    "np.random.seed(20)\n",
    "for i in range(100000):\n",
    "    deviation= antwalk(11, 7)\n",
    "    total.append(np.max(deviation))\n",
    "total=np.array(total)\n",
    "np.sum(total>0.6)/np.sum(total>0.2)\n",
    "print(\"conditional probability for m=11, n=7: %.10f\" % (np.sum(total>0.6)/np.sum(total>0.2))) "
   ]
  },
  {
   "cell_type": "code",
   "execution_count": null,
   "metadata": {
    "collapsed": true
   },
   "outputs": [],
   "source": [
    "\"\"\"\n",
    "What is the conditional probability that D is greater than 0.6 given that it is greater than 0.2 when m=23 and n=31?\n",
    "\n",
    "\"\"\""
   ]
  },
  {
   "cell_type": "code",
   "execution_count": 49,
   "metadata": {},
   "outputs": [
    {
     "name": "stdout",
     "output_type": "stream",
     "text": [
      "conditional probability for m=23, n=31: 0.0648503941\n"
     ]
    }
   ],
   "source": [
    "# change the m=23 and n=31\n",
    "total = [] \n",
    "np.random.seed(20)\n",
    "for i in range(100000):\n",
    "    deviation= antwalk(23, 31)\n",
    "    total.append(np.max(deviation))\n",
    "total=np.array(total)\n",
    "np.sum(total>0.6)/np.sum(total>0.2)\n",
    "print(\"conditional probability for m=23, n=31: %.10f\" % (np.sum(total>0.6)/np.sum(total>0.2)))"
   ]
  },
  {
   "cell_type": "code",
   "execution_count": 35,
   "metadata": {
    "collapsed": true
   },
   "outputs": [],
   "source": [
    "# Define the function to plot one random walk\n",
    "def antplot(m, n):\n",
    "    deviation = []\n",
    "    x, y = 0, 0\n",
    "    xlist = [x]\n",
    "    ylist = [y]\n",
    "    while x<m and y<n:\n",
    "        direction = np.random.randint(0,2)\n",
    "        if direction ==0:\n",
    "            x += 1\n",
    "        else:\n",
    "            y += 1\n",
    "        xlist.append(x)\n",
    "        ylist.append(y)\n",
    "        deviation.append(max(x/m-y/n, y/n-x/m))\n",
    "    while x==m and y<n:\n",
    "        y += 1\n",
    "        xlist.append(xlist[-1])\n",
    "        ylist.append(y)\n",
    "        deviation.append(max(x/m-y/n, y/n-x/m))\n",
    "    while x<m and y==n:\n",
    "        x += 1\n",
    "        xlist.append(x)\n",
    "        ylist.append(ylist[-1])\n",
    "        deviation.append(max(x/m-y/n, y/n-x/m))\n",
    "    plt.plot(xlist, ylist)\n",
    "    plt.xlim(0-1,m+1)\n",
    "    plt.ylim(0-1,n+1)\n",
    "    plt.scatter([0,m],[0,n], c=\"red\", s=100)\n",
    "    plt.grid()\n",
    "    plt.show()"
   ]
  },
  {
   "cell_type": "code",
   "execution_count": 36,
   "metadata": {},
   "outputs": [
    {
     "data": {
      "image/png": "[encoded data removed]",
      "text/plain": [
       "<matplotlib.figure.Figure at 0x1d8476485f8>"
      ]
     },
     "metadata": {},
     "output_type": "display_data"
    }
   ],
   "source": [
    "# simulate and plot one random walk with m=11 and n=7\n",
    "antplot(11,7)"
   ]
  },
  {
   "cell_type": "code",
   "execution_count": 37,
   "metadata": {},
   "outputs": [
    {
     "data": {
      "image/png": "[encoded data removed]",
      "text/plain": [
       "<matplotlib.figure.Figure at 0x1d84783b198>"
      ]
     },
     "metadata": {},
     "output_type": "display_data"
    }
   ],
   "source": [
    "# simulate and plot one random walk with m=23 and n=31\n",
    "antplot(23,31)"
   ]
  },
  {
   "cell_type": "code",
   "execution_count": null,
   "metadata": {
    "collapsed": true
   },
   "outputs": [],
   "source": [
    "# Please visit https://github.com/pangziyouyige/DataIncubatorChallenge/blob/master/Challenge1.ipynb to check more of the script."
   ]
  }
 ],
 "metadata": {
  "kernelspec": {
   "display_name": "Python 3",
   "language": "python",
   "name": "python3"
  },
  "language_info": {
   "codemirror_mode": {
    "name": "ipython",
    "version": 3
   },
   "file_extension": ".py",
   "mimetype": "text/x-python",
   "name": "python",
   "nbconvert_exporter": "python",
   "pygments_lexer": "ipython3",
   "version": "3.6.2"
  }
 },
 "nbformat": 4,
 "nbformat_minor": 2
}
