{
 "cells": [
  {
   "cell_type": "code",
   "execution_count": 70,
   "metadata": {
    "collapsed": true
   },
   "outputs": [],
   "source": [
    "import numpy as np\n",
    "import pandas as pd\n",
    "import matplotlib.pyplot as plt\n",
    "import scipy.stats as stats\n",
    "import datetime\n",
    "from sklearn.linear_model import LinearRegression\n",
    "import statsmodels.api as sm\n",
    "from sklearn.feature_selection import f_regression\n",
    "import time\n",
    "from math import pi, cos"
   ]
  },
  {
   "cell_type": "code",
   "execution_count": 71,
   "metadata": {},
   "outputs": [
    {
     "name": "stderr",
     "output_type": "stream",
     "text": [
      "C:\\Users\\fanfan\\Anaconda3\\lib\\site-packages\\IPython\\core\\interactiveshell.py:2698: DtypeWarning: Columns (25,27) have mixed types. Specify dtype option on import or set low_memory=False.\n",
      "  interactivity=interactivity, compiler=compiler, result=result)\n"
     ]
    }
   ],
   "source": [
    "# Load the data from Stanford Open Policing Datasets\n",
    "uil=\"https://stacks.stanford.edu/file/druid:py883nd2578/MT-clean.csv.gz\"\n",
    "Mdata = pd.read_csv(uil, compression='gzip', header=0, parse_dates=True)"
   ]
  },
  {
   "cell_type": "code",
   "execution_count": 5,
   "metadata": {},
   "outputs": [
    {
     "name": "stdout",
     "output_type": "stream",
     "text": [
      "<class 'pandas.core.frame.DataFrame'>\n",
      "RangeIndex: 825118 entries, 0 to 825117\n",
      "Data columns (total 33 columns):\n",
      "id                       825118 non-null object\n",
      "state                    825118 non-null object\n",
      "stop_date                825107 non-null object\n",
      "stop_time                825107 non-null object\n",
      "location_raw             825114 non-null object\n",
      "county_name              821062 non-null object\n",
      "county_fips              821062 non-null float64\n",
      "fine_grained_location    821377 non-null object\n",
      "police_department        0 non-null float64\n",
      "driver_gender            824999 non-null object\n",
      "driver_age_raw           825118 non-null float64\n",
      "driver_age               821638 non-null float64\n",
      "driver_race_raw          825012 non-null object\n",
      "driver_race              822379 non-null object\n",
      "violation_raw            825045 non-null object\n",
      "violation                825045 non-null object\n",
      "search_conducted         825118 non-null bool\n",
      "search_type_raw          3026 non-null object\n",
      "search_type              3026 non-null object\n",
      "contraband_found         822092 non-null object\n",
      "stop_outcome             825065 non-null object\n",
      "is_arrested              825118 non-null bool\n",
      "lat                      824682 non-null float64\n",
      "lon                      824682 non-null float64\n",
      "ethnicity                825020 non-null object\n",
      "city                     275488 non-null object\n",
      "out_of_state             820419 non-null object\n",
      "vehicle_year             818508 non-null object\n",
      "vehicle_make             820850 non-null object\n",
      "vehicle_model            801317 non-null object\n",
      "vehicle_style            759756 non-null object\n",
      "search_reason            2809 non-null object\n",
      "stop_outcome_raw         825065 non-null object\n",
      "dtypes: bool(2), float64(6), object(25)\n",
      "memory usage: 196.7+ MB\n"
     ]
    },
    {
     "data": {
      "text/plain": [
       "(825118, 33)"
      ]
     },
     "execution_count": 5,
     "metadata": {},
     "output_type": "execute_result"
    }
   ],
   "source": [
    "# Check the basic information of the dataset\n",
    "Mdata.columns\n",
    "Mdata.info()\n",
    "Mdata.head()\n",
    "Mdata.shape\n",
    "# Can also use value_counts() to examine the unique value and its counts"
   ]
  },
  {
   "cell_type": "code",
   "execution_count": 6,
   "metadata": {},
   "outputs": [
    {
     "data": {
      "text/html": [
       "<div>\n",
       "<style>\n",
       "    .dataframe thead tr:only-child th {\n",
       "        text-align: right;\n",
       "    }\n",
       "\n",
       "    .dataframe thead th {\n",
       "        text-align: left;\n",
       "    }\n",
       "\n",
       "    .dataframe tbody tr th {\n",
       "        vertical-align: top;\n",
       "    }\n",
       "</style>\n",
       "<table border=\"1\" class=\"dataframe\">\n",
       "  <thead>\n",
       "    <tr style=\"text-align: right;\">\n",
       "      <th></th>\n",
       "      <th>id</th>\n",
       "      <th>state</th>\n",
       "      <th>stop_date</th>\n",
       "      <th>stop_time</th>\n",
       "      <th>location_raw</th>\n",
       "      <th>county_name</th>\n",
       "      <th>county_fips</th>\n",
       "      <th>fine_grained_location</th>\n",
       "      <th>police_department</th>\n",
       "      <th>driver_gender</th>\n",
       "      <th>...</th>\n",
       "      <th>lon</th>\n",
       "      <th>ethnicity</th>\n",
       "      <th>city</th>\n",
       "      <th>out_of_state</th>\n",
       "      <th>vehicle_year</th>\n",
       "      <th>vehicle_make</th>\n",
       "      <th>vehicle_model</th>\n",
       "      <th>vehicle_style</th>\n",
       "      <th>search_reason</th>\n",
       "      <th>stop_outcome_raw</th>\n",
       "    </tr>\n",
       "  </thead>\n",
       "  <tbody>\n",
       "    <tr>\n",
       "      <th>0</th>\n",
       "      <td>MT-2009-00001</td>\n",
       "      <td>MT</td>\n",
       "      <td>2009-01-01</td>\n",
       "      <td>02:10</td>\n",
       "      <td>CASCADE</td>\n",
       "      <td>Cascade County</td>\n",
       "      <td>30013.0</td>\n",
       "      <td>US 89 N MM10 (SB)</td>\n",
       "      <td>NaN</td>\n",
       "      <td>F</td>\n",
       "      <td>...</td>\n",
       "      <td>-111.802932</td>\n",
       "      <td>N</td>\n",
       "      <td>NaN</td>\n",
       "      <td>False</td>\n",
       "      <td>1994</td>\n",
       "      <td>FORD</td>\n",
       "      <td>EXPLORER</td>\n",
       "      <td>SPORT UTILITY</td>\n",
       "      <td>NaN</td>\n",
       "      <td>TRAFFIC CITATION,WARNING</td>\n",
       "    </tr>\n",
       "    <tr>\n",
       "      <th>1</th>\n",
       "      <td>MT-2009-00002</td>\n",
       "      <td>MT</td>\n",
       "      <td>2009-01-02</td>\n",
       "      <td>11:34</td>\n",
       "      <td>MISSOULA</td>\n",
       "      <td>Missoula County</td>\n",
       "      <td>30063.0</td>\n",
       "      <td>HWY 93 SO AND ANNS LANE S/B</td>\n",
       "      <td>NaN</td>\n",
       "      <td>M</td>\n",
       "      <td>...</td>\n",
       "      <td>-114.081142</td>\n",
       "      <td>N</td>\n",
       "      <td>NaN</td>\n",
       "      <td>False</td>\n",
       "      <td>1996</td>\n",
       "      <td>GMC</td>\n",
       "      <td>TK</td>\n",
       "      <td>TRUCK</td>\n",
       "      <td>NaN</td>\n",
       "      <td>INFFRACTION ARREST,WARNING</td>\n",
       "    </tr>\n",
       "    <tr>\n",
       "      <th>2</th>\n",
       "      <td>MT-2009-00003</td>\n",
       "      <td>MT</td>\n",
       "      <td>2009-01-03</td>\n",
       "      <td>11:36</td>\n",
       "      <td>MISSOULA</td>\n",
       "      <td>Missoula County</td>\n",
       "      <td>30063.0</td>\n",
       "      <td>P007 HWY 93 MM 77 N/B</td>\n",
       "      <td>NaN</td>\n",
       "      <td>M</td>\n",
       "      <td>...</td>\n",
       "      <td>-114.073505</td>\n",
       "      <td>N</td>\n",
       "      <td>NaN</td>\n",
       "      <td>False</td>\n",
       "      <td>1999</td>\n",
       "      <td>GMC</td>\n",
       "      <td>YUKON</td>\n",
       "      <td>SPORT UTILITY</td>\n",
       "      <td>NaN</td>\n",
       "      <td>INFFRACTION ARREST</td>\n",
       "    </tr>\n",
       "    <tr>\n",
       "      <th>3</th>\n",
       "      <td>MT-2009-00004</td>\n",
       "      <td>MT</td>\n",
       "      <td>2009-01-04</td>\n",
       "      <td>10:33</td>\n",
       "      <td>MISSOULA</td>\n",
       "      <td>Missoula County</td>\n",
       "      <td>30063.0</td>\n",
       "      <td>P007 HWY 93 MM 81 S/B</td>\n",
       "      <td>NaN</td>\n",
       "      <td>F</td>\n",
       "      <td>...</td>\n",
       "      <td>-114.079027</td>\n",
       "      <td>NaN</td>\n",
       "      <td>NaN</td>\n",
       "      <td>False</td>\n",
       "      <td>2002</td>\n",
       "      <td>HOND</td>\n",
       "      <td>CR-V</td>\n",
       "      <td>SPORT UTILITY</td>\n",
       "      <td>NaN</td>\n",
       "      <td>INFFRACTION ARREST</td>\n",
       "    </tr>\n",
       "    <tr>\n",
       "      <th>4</th>\n",
       "      <td>MT-2009-00005</td>\n",
       "      <td>MT</td>\n",
       "      <td>2009-01-04</td>\n",
       "      <td>10:46</td>\n",
       "      <td>MISSOULA</td>\n",
       "      <td>Missoula County</td>\n",
       "      <td>30063.0</td>\n",
       "      <td>P007 HWY 93 MM 81 N/B</td>\n",
       "      <td>NaN</td>\n",
       "      <td>M</td>\n",
       "      <td>...</td>\n",
       "      <td>-114.079150</td>\n",
       "      <td>NaN</td>\n",
       "      <td>NaN</td>\n",
       "      <td>False</td>\n",
       "      <td>1992</td>\n",
       "      <td>TOYT</td>\n",
       "      <td>TERCEL</td>\n",
       "      <td>SEDAN</td>\n",
       "      <td>NaN</td>\n",
       "      <td>INFFRACTION ARREST</td>\n",
       "    </tr>\n",
       "  </tbody>\n",
       "</table>\n",
       "<p>5 rows × 33 columns</p>\n",
       "</div>"
      ],
      "text/plain": [
       "              id state  stop_date stop_time location_raw      county_name  \\\n",
       "0  MT-2009-00001    MT 2009-01-01     02:10      CASCADE   Cascade County   \n",
       "1  MT-2009-00002    MT 2009-01-02     11:34     MISSOULA  Missoula County   \n",
       "2  MT-2009-00003    MT 2009-01-03     11:36     MISSOULA  Missoula County   \n",
       "3  MT-2009-00004    MT 2009-01-04     10:33     MISSOULA  Missoula County   \n",
       "4  MT-2009-00005    MT 2009-01-04     10:46     MISSOULA  Missoula County   \n",
       "\n",
       "   county_fips        fine_grained_location  police_department driver_gender  \\\n",
       "0      30013.0            US 89 N MM10 (SB)                NaN             F   \n",
       "1      30063.0  HWY 93 SO AND ANNS LANE S/B                NaN             M   \n",
       "2      30063.0        P007 HWY 93 MM 77 N/B                NaN             M   \n",
       "3      30063.0        P007 HWY 93 MM 81 S/B                NaN             F   \n",
       "4      30063.0        P007 HWY 93 MM 81 N/B                NaN             M   \n",
       "\n",
       "              ...                     lon  ethnicity city out_of_state  \\\n",
       "0             ...             -111.802932          N  NaN        False   \n",
       "1             ...             -114.081142          N  NaN        False   \n",
       "2             ...             -114.073505          N  NaN        False   \n",
       "3             ...             -114.079027        NaN  NaN        False   \n",
       "4             ...             -114.079150        NaN  NaN        False   \n",
       "\n",
       "  vehicle_year vehicle_make  vehicle_model  vehicle_style search_reason  \\\n",
       "0         1994         FORD       EXPLORER  SPORT UTILITY           NaN   \n",
       "1         1996          GMC             TK          TRUCK           NaN   \n",
       "2         1999          GMC          YUKON  SPORT UTILITY           NaN   \n",
       "3         2002         HOND           CR-V  SPORT UTILITY           NaN   \n",
       "4         1992         TOYT         TERCEL          SEDAN           NaN   \n",
       "\n",
       "             stop_outcome_raw  \n",
       "0    TRAFFIC CITATION,WARNING  \n",
       "1  INFFRACTION ARREST,WARNING  \n",
       "2          INFFRACTION ARREST  \n",
       "3          INFFRACTION ARREST  \n",
       "4          INFFRACTION ARREST  \n",
       "\n",
       "[5 rows x 33 columns]"
      ]
     },
     "execution_count": 6,
     "metadata": {},
     "output_type": "execute_result"
    }
   ],
   "source": [
    "# Change the stop_date column into a datetime data type\n",
    "Mdata[\"stop_date\"] = pd.to_datetime(Mdata[\"stop_date\"])\n",
    "Mdata.head()"
   ]
  },
  {
   "cell_type": "code",
   "execution_count": null,
   "metadata": {
    "collapsed": true
   },
   "outputs": [],
   "source": [
    "'''\n",
    "Q1 What proportion of traffic stops in Montana involved male drivers? In other words, divide the number of traffic stops \n",
    "involving male drivers by the total number of stops.\n",
    "\n",
    "'''"
   ]
  },
  {
   "cell_type": "code",
   "execution_count": 8,
   "metadata": {},
   "outputs": [
    {
     "data": {
      "text/plain": [
       "119"
      ]
     },
     "execution_count": 8,
     "metadata": {},
     "output_type": "execute_result"
    }
   ],
   "source": [
    "Mdata[\"driver_gender\"].isnull().sum()"
   ]
  },
  {
   "cell_type": "code",
   "execution_count": 9,
   "metadata": {},
   "outputs": [
    {
     "name": "stdout",
     "output_type": "stream",
     "text": [
      "Proportion of traffice stops in Montana involved male drivers: 0.6750723334\n"
     ]
    }
   ],
   "source": [
    "# First check all the unique ID of stop in Montana and whether there is NaN in ID\n",
    "Mdata[\"id\"].nunique() # it is 825118 equal to the number or rows, meaning id is unique identifier\n",
    "Mdata[\"id\"].isnull().sum() # there is no null in id column\n",
    "\n",
    "# Next check whether there is any NaN in the driver_gender column\n",
    "Mdata[\"driver_gender\"].isnull().sum() # there is 119 NaN in the driver_gender column\n",
    "\n",
    "# Since there are 119 NaN in the driver_gender column, don't include them in the proportion calculation\n",
    "proportion = Mdata.groupby(\"driver_gender\")[\"id\"].count()[\"M\"]/Mdata.driver_gender.count()\n",
    "print(\"Proportion of traffic stops in Montana involved male drivers: %.10f\" % proportion) "
   ]
  },
  {
   "cell_type": "code",
   "execution_count": null,
   "metadata": {
    "collapsed": true
   },
   "outputs": [],
   "source": [
    "'''\n",
    "How many more times likely are you to be arrested in Montana during a traffic stop if you have out of state plates?\n",
    "\n",
    "'''"
   ]
  },
  {
   "cell_type": "code",
   "execution_count": 15,
   "metadata": {},
   "outputs": [
    {
     "data": {
      "text/plain": [
       "out_of_state  is_arrested\n",
       "False         False          604588\n",
       "              True            12190\n",
       "True          False          198773\n",
       "              True             4868\n",
       "Name: id, dtype: int64"
      ]
     },
     "execution_count": 15,
     "metadata": {},
     "output_type": "execute_result"
    }
   ],
   "source": [
    "times = Mdata.groupby([\"out_of_state\",\"is_arrested\"])[\"id\"].count()\n",
    "times"
   ]
  },
  {
   "cell_type": "code",
   "execution_count": 18,
   "metadata": {},
   "outputs": [
    {
     "name": "stdout",
     "output_type": "stream",
     "text": [
      "out_of_state  is_arrested\n",
      "False         False          604588\n",
      "              True            12190\n",
      "True          False          198773\n",
      "              True             4868\n",
      "Name: id, dtype: int64\n",
      "how many more times likely:\n",
      "1.2095129351452942\n"
     ]
    }
   ],
   "source": [
    "# First check whether there is NaN, and find there are 4699 NaNs in the out_of_state column, but no NaN in is_arrested column\n",
    "Mdata[\"out_of_state\"].isnull().sum()\n",
    "Mdata[\"is_arrested\"].isnull().sum()\n",
    "\n",
    "# If NaNs are disregarded, the times to be arrested in Montana during a traffic stop if you have out of state plates is calculated\n",
    "times = Mdata.groupby([\"out_of_state\",\"is_arrested\"])[\"id\"].count()\n",
    "print (times)\n",
    "print (\"how many more times likely:\")\n",
    "print ((times[1,1]/(times[1,1]+times[1,0]))/(times[0,1]/(times[0,1]+times[0,0])))"
   ]
  },
  {
   "cell_type": "code",
   "execution_count": 19,
   "metadata": {},
   "outputs": [
    {
     "name": "stdout",
     "output_type": "stream",
     "text": [
      "out_of_state   False   True \n",
      "is_arrested                 \n",
      "False         609150  198773\n",
      "True           12327    4868\n",
      "how many more times likely (conservative):\n",
      "1.2051830449542686\n"
     ]
    }
   ],
   "source": [
    "# If NaNs are kept and consider them as instate for a conservative calculation\n",
    "times = pd.crosstab(Mdata.is_arrested == True, Mdata.out_of_state == True)\n",
    "print (times)\n",
    "print (\"how many more times likely (conservative):\")\n",
    "print ((times.iloc[1, 1]/(times.iloc[1, 1]+times.iloc[0, 1]))/(times.iloc[1, 0]/(times.iloc[1, 0]+times.iloc[0, 0])))"
   ]
  },
  {
   "cell_type": "code",
   "execution_count": null,
   "metadata": {
    "collapsed": true
   },
   "outputs": [],
   "source": [
    "'''\n",
    "Perform a (χ2) test to determine whether the proportions of arrests in these two populations are equal. \n",
    "What is the value of the test statistic?\n",
    "\n",
    "'''"
   ]
  },
  {
   "cell_type": "code",
   "execution_count": null,
   "metadata": {
    "collapsed": true
   },
   "outputs": [],
   "source": [
    "# chi-squared statistic is used to test whether the proportion of arrests for instate and outstate vehicles"
   ]
  },
  {
   "cell_type": "code",
   "execution_count": 22,
   "metadata": {
    "collapsed": true,
    "scrolled": true
   },
   "outputs": [],
   "source": [
    "# First way is to conduct Chi-Squared Goodness-Of-Fit Test\n",
    "Instate = Mdata[Mdata[\"out_of_state\"]==False][[\"is_arrested\"]] # stops for outstate vehicles\n",
    "Outstate = Mdata[Mdata[\"out_of_state\"]==True][[\"is_arrested\"]] # stops for inside vehicles"
   ]
  },
  {
   "cell_type": "code",
   "execution_count": 32,
   "metadata": {},
   "outputs": [
    {
     "name": "stdout",
     "output_type": "stream",
     "text": [
      "col_0         count\n",
      "is_arrested        \n",
      "False        604588\n",
      "True          12190\n",
      "col_0         count\n",
      "is_arrested        \n",
      "False        198773\n",
      "True           4868\n"
     ]
    }
   ],
   "source": [
    "# Examine the proportion of being arrested in each of the table \n",
    "Instate_table = pd.crosstab(index=Instate[\"is_arrested\"], columns=\"count\")\n",
    "Outstate_table = pd.crosstab(index=Outstate[\"is_arrested\"], columns=\"count\")\n",
    "print (Instate_table)\n",
    "print (Outstate_table)"
   ]
  },
  {
   "cell_type": "code",
   "execution_count": 33,
   "metadata": {},
   "outputs": [
    {
     "name": "stdout",
     "output_type": "stream",
     "text": [
      "Chi-Squared Statistic: 180.2316613004\n"
     ]
    }
   ],
   "source": [
    "# Calculate the expected proportion of outstate vehicles based on the proportions of instate vehicles \n",
    "# If there is no statistical difference, the proportions of arrests in these two populations are equal\n",
    "\n",
    "observed = Outstate_table\n",
    "ratios = Instate_table/len(Instate)\n",
    "expected = ratios * len(Outstate)\n",
    "chi_squared_stat = (((observed-expected)**2)/expected).sum()\n",
    "print (\"Chi-Squared Statistic: %.10f\" %chi_squared_stat)\n",
    "\n",
    "# can simply use stats.chisquare(f_obs= observed, f_exp= expected) to get the Chi-Squared statistic and p value"
   ]
  },
  {
   "cell_type": "code",
   "execution_count": 34,
   "metadata": {},
   "outputs": [
    {
     "name": "stdout",
     "output_type": "stream",
     "text": [
      "Chi-Squared test p value: 0.0000000000\n"
     ]
    }
   ],
   "source": [
    "# Compare the chi-square test statistic to a critical value based on the chi-square distribution at 95% confidence interval.\n",
    "crit = stats.chi2.ppf(q = 0.95, df = 1) # Since there are two groups to compare, the degree of freedom is 2-1=1\n",
    "p = 1 - stats.chi2.cdf(x=chi_squared_stat, df=1)\n",
    "print (\"Chi-Squared test p value: %.10f\" % p)"
   ]
  },
  {
   "cell_type": "code",
   "execution_count": 35,
   "metadata": {},
   "outputs": [
    {
     "data": {
      "text/html": [
       "<div>\n",
       "<style>\n",
       "    .dataframe thead tr:only-child th {\n",
       "        text-align: right;\n",
       "    }\n",
       "\n",
       "    .dataframe thead th {\n",
       "        text-align: left;\n",
       "    }\n",
       "\n",
       "    .dataframe tbody tr th {\n",
       "        vertical-align: top;\n",
       "    }\n",
       "</style>\n",
       "<table border=\"1\" class=\"dataframe\">\n",
       "  <thead>\n",
       "    <tr style=\"text-align: right;\">\n",
       "      <th>out_of_state</th>\n",
       "      <th>False</th>\n",
       "      <th>True</th>\n",
       "    </tr>\n",
       "    <tr>\n",
       "      <th>is_arrested</th>\n",
       "      <th></th>\n",
       "      <th></th>\n",
       "    </tr>\n",
       "  </thead>\n",
       "  <tbody>\n",
       "    <tr>\n",
       "      <th>False</th>\n",
       "      <td>604588</td>\n",
       "      <td>198773</td>\n",
       "    </tr>\n",
       "    <tr>\n",
       "      <th>True</th>\n",
       "      <td>12190</td>\n",
       "      <td>4868</td>\n",
       "    </tr>\n",
       "  </tbody>\n",
       "</table>\n",
       "</div>"
      ],
      "text/plain": [
       "out_of_state   False   True \n",
       "is_arrested                 \n",
       "False         604588  198773\n",
       "True           12190    4868"
      ]
     },
     "execution_count": 35,
     "metadata": {},
     "output_type": "execute_result"
    }
   ],
   "source": [
    "# An alternative is to test the Chi-Squared Test of Independence\n",
    "# Null hypothesis: there is no relationship between two variables (being arrested and being outside plate are independent)\n",
    "\n",
    "# First calculate the marginal sum for each variable (being arrested, being outside plate)\n",
    "Independence_tab = pd.crosstab(Mdata.is_arrested, Mdata.out_of_state, margins = True)\n",
    "observed = Independence_tab.iloc[0:2,0:2]\n",
    "observed"
   ]
  },
  {
   "cell_type": "code",
   "execution_count": 36,
   "metadata": {},
   "outputs": [
    {
     "name": "stdout",
     "output_type": "stream",
     "text": [
      "Chi-Squared Statistic: 128.9324677151\n",
      "Chi-Squared test p value: 0.0000000000\n"
     ]
    }
   ],
   "source": [
    "# If two variables are independent, the expected value are the products of marginal sums\n",
    "expected =  np.outer(Independence_tab[\"All\"][0:2], Independence_tab.loc[\"All\"][0:2]) / 820419\n",
    "expected = pd.DataFrame(expected)\n",
    "chi_squared_stat = (((observed-expected)**2)/expected).sum().sum()\n",
    "print (\"Chi-Squared Statistic: %.10f\" %chi_squared_stat)\n",
    "\n",
    "p = 1 - stats.chi2.cdf(x=chi_squared_stat,df=1)\n",
    "print (\"Chi-Squared test p value: %.10f\" % p)\n",
    "\n",
    "# The Chi-squared test statistic is similar to Chi-Squared Goodness-Of-Fit\n",
    "# Since the p value is less than 0.05, the null hypothesis is rejected\n",
    "# the proportions of arrests in these two populations are significantly different"
   ]
  },
  {
   "cell_type": "code",
   "execution_count": null,
   "metadata": {
    "collapsed": true
   },
   "outputs": [],
   "source": [
    "'''\n",
    "What proportion of traffic stops in Montana resulted in speeding violations? In other words, find the number of violations \n",
    "that include \"Speeding\" in the violation description and divide that number by the total number of stops \n",
    "(or rows in the Montana dataset).\n",
    "\n",
    "'''"
   ]
  },
  {
   "cell_type": "code",
   "execution_count": 38,
   "metadata": {},
   "outputs": [
    {
     "name": "stdout",
     "output_type": "stream",
     "text": [
      "Proportion of speeding violation: 0.6580998112\n"
     ]
    }
   ],
   "source": [
    "# Calculate the number of stops that contains \"Speeding\" or \"speeding\" in the violation description\n",
    "# Divide the number by the total number of rows (total number of stops)\n",
    "speed_prop = Mdata.violation.str.contains(\"Speeding|speeding\").sum()/Mdata.shape[0]\n",
    "print (\"Proportion of speeding violation: %.10f\" % speed_prop)"
   ]
  },
  {
   "cell_type": "code",
   "execution_count": null,
   "metadata": {
    "collapsed": true
   },
   "outputs": [],
   "source": [
    "'''\n",
    "How much more likely does a traffic stop in Montana result in a DUI than a traffic stop in Vermont? \n",
    "To compute the proportion of traffic stops that result in a DUI, divide the number of stops with \"DUI\" in the \n",
    "violation description by the total number of stops.\n",
    "\n",
    "'''"
   ]
  },
  {
   "cell_type": "code",
   "execution_count": 40,
   "metadata": {
    "collapsed": true
   },
   "outputs": [],
   "source": [
    "# Calculate the number of stops resulting in DUI and divide it by the total number of stops for Montana\n",
    "MDUI = Mdata.violation.str.contains(\"DUI\").sum()/Mdata.shape[0]"
   ]
  },
  {
   "cell_type": "code",
   "execution_count": 41,
   "metadata": {},
   "outputs": [
    {
     "name": "stderr",
     "output_type": "stream",
     "text": [
      "C:\\Users\\fanfan\\Anaconda3\\lib\\site-packages\\IPython\\core\\interactiveshell.py:2698: DtypeWarning: Columns (19) have mixed types. Specify dtype option on import or set low_memory=False.\n",
      "  interactivity=interactivity, compiler=compiler, result=result)\n"
     ]
    }
   ],
   "source": [
    "# Load data of Vermont\n",
    "uil=\"https://stacks.stanford.edu/file/druid:py883nd2578/VT-clean.csv.gz\"\n",
    "Vdata = pd.read_csv(uil, compression='gzip', header=0)"
   ]
  },
  {
   "cell_type": "code",
   "execution_count": 43,
   "metadata": {
    "collapsed": true
   },
   "outputs": [],
   "source": [
    "# Calculate the number of stops resulting in DUI and divide it by the total number of stops for Vermont\n",
    "VDUI = Vdata.violation.str.contains(\"DUI\").sum()/Vdata.shape[0]"
   ]
  },
  {
   "cell_type": "code",
   "execution_count": 44,
   "metadata": {},
   "outputs": [
    {
     "name": "stdout",
     "output_type": "stream",
     "text": [
      "How much more likely does a stop result in DUI in Montana than in Vermont: 4.0859996944\n"
     ]
    }
   ],
   "source": [
    "# Calculate their ratio\n",
    "ratio = MDUI/VDUI\n",
    "print (\"How much more likely does a stop result in DUI in Montana than in Vermont: %.10f\" % ratio)"
   ]
  },
  {
   "cell_type": "code",
   "execution_count": null,
   "metadata": {
    "collapsed": true
   },
   "outputs": [],
   "source": [
    "'''\n",
    "What is the extrapolated, average manufacture year of vehicles involved in traffic stops in Montana in 2020? \n",
    "To answer this question, calculate the average vehicle manufacture year for each year's traffic stops. \n",
    "Extrapolate using a linear regression.\n",
    "\n",
    "'''"
   ]
  },
  {
   "cell_type": "code",
   "execution_count": 45,
   "metadata": {
    "collapsed": true
   },
   "outputs": [],
   "source": [
    "# Duplicate the data frame \n",
    "myv = Mdata.loc[:]\n",
    "# Extract year for each stop\n",
    "myv[\"year\"]=myv[\"stop_date\"].dt.year\n",
    "# Change the data type of year to numeric for further regression analysis \n",
    "myv[\"vehicle_year\"] = pd.to_numeric(myv[\"vehicle_year\"], errors=\"coerce\")\n",
    "# set the date of stop as index for resampling\n",
    "myv.set_index(\"stop_date\", inplace=True)\n",
    "# resample stop data for every year and get the average \"\"vehicle_year\" for each year's traffic stops\n",
    "myv_y = myv[[\"vehicle_year\", \"year\"]].resample(\"A\").mean()\n",
    "# reset index using integers\n",
    "myv_y = myv_y.reset_index()\n",
    "del myv_y[\"stop_date\"]"
   ]
  },
  {
   "cell_type": "code",
   "execution_count": 46,
   "metadata": {},
   "outputs": [
    {
     "data": {
      "text/html": [
       "<div>\n",
       "<style>\n",
       "    .dataframe thead tr:only-child th {\n",
       "        text-align: right;\n",
       "    }\n",
       "\n",
       "    .dataframe thead th {\n",
       "        text-align: left;\n",
       "    }\n",
       "\n",
       "    .dataframe tbody tr th {\n",
       "        vertical-align: top;\n",
       "    }\n",
       "</style>\n",
       "<table border=\"1\" class=\"dataframe\">\n",
       "  <thead>\n",
       "    <tr style=\"text-align: right;\">\n",
       "      <th></th>\n",
       "      <th>vehicle_year</th>\n",
       "      <th>year</th>\n",
       "    </tr>\n",
       "  </thead>\n",
       "  <tbody>\n",
       "    <tr>\n",
       "      <th>0</th>\n",
       "      <td>2000.980215</td>\n",
       "      <td>2009.0</td>\n",
       "    </tr>\n",
       "    <tr>\n",
       "      <th>1</th>\n",
       "      <td>2001.521377</td>\n",
       "      <td>2010.0</td>\n",
       "    </tr>\n",
       "    <tr>\n",
       "      <th>2</th>\n",
       "      <td>2002.280938</td>\n",
       "      <td>2011.0</td>\n",
       "    </tr>\n",
       "    <tr>\n",
       "      <th>3</th>\n",
       "      <td>2003.362207</td>\n",
       "      <td>2012.0</td>\n",
       "    </tr>\n",
       "    <tr>\n",
       "      <th>4</th>\n",
       "      <td>2003.905175</td>\n",
       "      <td>2013.0</td>\n",
       "    </tr>\n",
       "    <tr>\n",
       "      <th>5</th>\n",
       "      <td>2004.482506</td>\n",
       "      <td>2014.0</td>\n",
       "    </tr>\n",
       "    <tr>\n",
       "      <th>6</th>\n",
       "      <td>2005.295767</td>\n",
       "      <td>2015.0</td>\n",
       "    </tr>\n",
       "    <tr>\n",
       "      <th>7</th>\n",
       "      <td>2005.872128</td>\n",
       "      <td>2016.0</td>\n",
       "    </tr>\n",
       "  </tbody>\n",
       "</table>\n",
       "</div>"
      ],
      "text/plain": [
       "   vehicle_year    year\n",
       "0   2000.980215  2009.0\n",
       "1   2001.521377  2010.0\n",
       "2   2002.280938  2011.0\n",
       "3   2003.362207  2012.0\n",
       "4   2003.905175  2013.0\n",
       "5   2004.482506  2014.0\n",
       "6   2005.295767  2015.0\n",
       "7   2005.872128  2016.0"
      ]
     },
     "execution_count": 46,
     "metadata": {},
     "output_type": "execute_result"
    }
   ],
   "source": [
    "# Examine the resultant data frame\n",
    "myv_y"
   ]
  },
  {
   "cell_type": "code",
   "execution_count": 47,
   "metadata": {},
   "outputs": [
    {
     "name": "stdout",
     "output_type": "stream",
     "text": [
      "Slope: 0.7174169000 Intercept: 559.6610280494\n"
     ]
    }
   ],
   "source": [
    "# fit linear regression between average manufacture year of each year's traffic stops and year (numeric) using sklearn\n",
    "lr = LinearRegression()\n",
    "X, y = myv_y[\"year\"].values[:,np.newaxis], myv_y[\"vehicle_year\"].values\n",
    "lr.fit(X,y)\n",
    "print(\"Slope: %.10f\" % lr.coef_[0], \"Intercept: %.10f\" % lr.intercept_)"
   ]
  },
  {
   "cell_type": "code",
   "execution_count": 48,
   "metadata": {
    "collapsed": true
   },
   "outputs": [],
   "source": [
    "# Define a function to plot the points and fitted regression line\n",
    "def lrplot(X,y, model):\n",
    "    plt.scatter(X,y, c=\"red\")\n",
    "    plt.plot(X, model.predict(X), color=\"blue\")\n",
    "    return None"
   ]
  },
  {
   "cell_type": "code",
   "execution_count": 49,
   "metadata": {},
   "outputs": [
    {
     "data": {
      "image/png": "[encoded data removed]",
      "text/plain": [
       "<matplotlib.figure.Figure at 0x1b7116e7320>"
      ]
     },
     "metadata": {},
     "output_type": "display_data"
    }
   ],
   "source": [
    "# Plot the points for average manufacture year of each year's traffic stops and year (numeric), and the fitted line\n",
    "lrplot(X, y, lr)\n",
    "plt.xlabel(\"Stop Year\")\n",
    "plt.ylabel(\"Average Manufacture Year\")\n",
    "plt.show()"
   ]
  },
  {
   "cell_type": "code",
   "execution_count": 50,
   "metadata": {},
   "outputs": [
    {
     "name": "stdout",
     "output_type": "stream",
     "text": [
      "Predicted average manufacture year of vehicles in 2020: 2008.8431659593\n"
     ]
    }
   ],
   "source": [
    "# Predict the average manufacture year of vehicles involved in traffic stops in Montana in 2020\n",
    "estimate = lr.predict([[2020]])\n",
    "print(\"Predicted average manufacture year of vehicles in 2020: %.10f\" % estimate)"
   ]
  },
  {
   "cell_type": "code",
   "execution_count": null,
   "metadata": {
    "collapsed": true
   },
   "outputs": [],
   "source": [
    "'''What is the p-value of this linear regression?\n",
    "'''"
   ]
  },
  {
   "cell_type": "code",
   "execution_count": 51,
   "metadata": {
    "scrolled": true
   },
   "outputs": [
    {
     "name": "stderr",
     "output_type": "stream",
     "text": [
      "C:\\Users\\fanfan\\Anaconda3\\lib\\site-packages\\scipy\\stats\\stats.py:1390: UserWarning: kurtosistest only valid for n>=20 ... continuing anyway, n=8\n",
      "  \"anyway, n=%i\" % int(n))\n"
     ]
    },
    {
     "name": "stdout",
     "output_type": "stream",
     "text": [
      "                            OLS Regression Results                            \n",
      "==============================================================================\n",
      "Dep. Variable:                      y   R-squared:                       0.994\n",
      "Model:                            OLS   Adj. R-squared:                  0.993\n",
      "Method:                 Least Squares   F-statistic:                     1058.\n",
      "Date:                Sun, 29 Apr 2018   Prob (F-statistic):           5.61e-08\n",
      "Time:                        20:51:20   Log-Likelihood:                 5.3634\n",
      "No. Observations:                   8   AIC:                            -6.727\n",
      "Df Residuals:                       6   BIC:                            -6.568\n",
      "Df Model:                           1                                         \n",
      "Covariance Type:            nonrobust                                         \n",
      "==============================================================================\n",
      "                 coef    std err          t      P>|t|      [0.025      0.975]\n",
      "------------------------------------------------------------------------------\n",
      "const        559.6610     44.379     12.611      0.000     451.069     668.253\n",
      "x1             0.7174      0.022     32.533      0.000       0.663       0.771\n",
      "==============================================================================\n",
      "Omnibus:                        2.434   Durbin-Watson:                   1.994\n",
      "Prob(Omnibus):                  0.296   Jarque-Bera (JB):                0.895\n",
      "Skew:                           0.812   Prob(JB):                        0.639\n",
      "Kurtosis:                       2.783   Cond. No.                     1.77e+06\n",
      "==============================================================================\n",
      "\n",
      "Warnings:\n",
      "[1] Standard Errors assume that the covariance matrix of the errors is correctly specified.\n",
      "[2] The condition number is large, 1.77e+06. This might indicate that there are\n",
      "strong multicollinearity or other numerical problems.\n"
     ]
    }
   ],
   "source": [
    "# First examine whether the coefficient of linear regression is statistically significant\n",
    "# Null hypothesis: the coefficient of year is equal to 0\n",
    "Xnew = sm.add_constant(X)\n",
    "params = sm.OLS(y, Xnew).fit()\n",
    "print(params.summary())\n",
    "\n",
    "# it can be seen the p value is 0, indicating the hypothesis is rejected. The coefficient of year is not equal to 0"
   ]
  },
  {
   "cell_type": "code",
   "execution_count": 53,
   "metadata": {},
   "outputs": [
    {
     "name": "stdout",
     "output_type": "stream",
     "text": [
      "p value of the linear regression: 0.0000000561\n"
     ]
    }
   ],
   "source": [
    "# Now use F-test to examine whether there is relationship between year of stops and average manufacture year \n",
    "# Null hypothesis: there is no relationship between year of stops and average manufacture year \n",
    "\n",
    "f_val, p = f_regression(X, y)\n",
    "print (\"p value of the linear regression: %.10f\" % p)\n",
    "\n",
    "# p value is 0.0000000561, indicating the null hypothesis is rejected \n",
    "# It is statistically significant that there exists relationships between manufacture year and year of stop\n"
   ]
  },
  {
   "cell_type": "code",
   "execution_count": null,
   "metadata": {
    "collapsed": true
   },
   "outputs": [],
   "source": [
    "'''\n",
    "Combining both the Vermont and Montana datasets, find the hours when the most and least number of traffic stops occurred. \n",
    "What is the difference in the total number of stops that occurred in these two hours? Hours range from 00 to 23. \n",
    "Round stop times down to compute this difference.\n",
    "\n",
    "'''"
   ]
  },
  {
   "cell_type": "code",
   "execution_count": 72,
   "metadata": {},
   "outputs": [
    {
     "name": "stderr",
     "output_type": "stream",
     "text": [
      "C:\\Users\\fanfan\\Anaconda3\\lib\\site-packages\\ipykernel_launcher.py:3: SettingWithCopyWarning: \n",
      "A value is trying to be set on a copy of a slice from a DataFrame.\n",
      "Try using .loc[row_indexer,col_indexer] = value instead\n",
      "\n",
      "See the caveats in the documentation: http://pandas.pydata.org/pandas-docs/stable/indexing.html#indexing-view-versus-copy\n",
      "  This is separate from the ipykernel package so we can avoid doing imports until\n",
      "C:\\Users\\fanfan\\Anaconda3\\lib\\site-packages\\ipykernel_launcher.py:6: SettingWithCopyWarning: \n",
      "A value is trying to be set on a copy of a slice from a DataFrame.\n",
      "Try using .loc[row_indexer,col_indexer] = value instead\n",
      "\n",
      "See the caveats in the documentation: http://pandas.pydata.org/pandas-docs/stable/indexing.html#indexing-view-versus-copy\n",
      "  \n"
     ]
    }
   ],
   "source": [
    "# Only the id column (number of stops) and stop_time column (hours)\n",
    "Mdata_least = Mdata[[\"id\", \"stop_time\"]]\n",
    "Mdata_least[\"state\"] = \"Montana\"\n",
    "\n",
    "# Get the hour of day for each stop in Montana\n",
    "Mdata_least[\"hour\"] = Mdata_least[\"stop_time\"].str.split(\":\").str.get(0)"
   ]
  },
  {
   "cell_type": "code",
   "execution_count": 73,
   "metadata": {},
   "outputs": [
    {
     "name": "stderr",
     "output_type": "stream",
     "text": [
      "C:\\Users\\fanfan\\Anaconda3\\lib\\site-packages\\ipykernel_launcher.py:3: SettingWithCopyWarning: \n",
      "A value is trying to be set on a copy of a slice from a DataFrame.\n",
      "Try using .loc[row_indexer,col_indexer] = value instead\n",
      "\n",
      "See the caveats in the documentation: http://pandas.pydata.org/pandas-docs/stable/indexing.html#indexing-view-versus-copy\n",
      "  This is separate from the ipykernel package so we can avoid doing imports until\n",
      "C:\\Users\\fanfan\\Anaconda3\\lib\\site-packages\\ipykernel_launcher.py:4: SettingWithCopyWarning: \n",
      "A value is trying to be set on a copy of a slice from a DataFrame.\n",
      "Try using .loc[row_indexer,col_indexer] = value instead\n",
      "\n",
      "See the caveats in the documentation: http://pandas.pydata.org/pandas-docs/stable/indexing.html#indexing-view-versus-copy\n",
      "  after removing the cwd from sys.path.\n"
     ]
    }
   ],
   "source": [
    "# Get the hour of day for each stop in Vermont\n",
    "Vdata_least = Vdata[[\"id\", \"stop_time\"]]\n",
    "Vdata_least[\"state\"] = \"Vermont\"\n",
    "Vdata_least[\"hour\"] = Vdata_least[\"stop_time\"].str.split(\":\").str.get(0)"
   ]
  },
  {
   "cell_type": "code",
   "execution_count": 74,
   "metadata": {},
   "outputs": [
    {
     "data": {
      "text/plain": [
       "hour\n",
       "00    25490\n",
       "01    16856\n",
       "02     8399\n",
       "03     1425\n",
       "04      547\n",
       "05     1710\n",
       "06     8561\n",
       "07    41550\n",
       "08    62488\n",
       "09    62233\n",
       "10    61946\n",
       "11    51008\n",
       "12    44024\n",
       "13    59281\n",
       "14    82129\n",
       "15    95891\n",
       "16    86886\n",
       "17    81437\n",
       "18    82430\n",
       "19    57980\n",
       "20    47244\n",
       "21    45891\n",
       "22    44387\n",
       "23    38599\n",
       "Name: id, dtype: int64"
      ]
     },
     "execution_count": 74,
     "metadata": {},
     "output_type": "execute_result"
    }
   ],
   "source": [
    "# Concatenate the Montana data and Vermont data, group by hour of day and calculate the counts of stops for each hour of day\n",
    "hourly = pd.concat([Mdata_least, Vdata_least], axis=0).groupby(\"hour\")[\"id\"].count()\n",
    "hourly"
   ]
  },
  {
   "cell_type": "code",
   "execution_count": 76,
   "metadata": {},
   "outputs": [
    {
     "name": "stdout",
     "output_type": "stream",
     "text": [
      "Difference between most and least number of traffic stops: 95344\n"
     ]
    }
   ],
   "source": [
    "# Convert to data frame and sort by number of counts\n",
    "two_state_rank = pd.DataFrame({'hour':hourly.index, 'count':hourly.values})\n",
    "two_state_rank.sort_values(\"count\", ascending=False, inplace=True)\n",
    "\n",
    "# Find the hours with most and least number of traffic stops, and calculate their difference \n",
    "diff = two_state_rank.iloc[0,0]-two_state_rank.iloc[-1,0]\n",
    "print (\"Difference between most and least number of traffic stops: \" + str(diff))"
   ]
  },
  {
   "cell_type": "code",
   "execution_count": 81,
   "metadata": {},
   "outputs": [
    {
     "data": {
      "text/plain": [
       "'\\nWe can use the traffic stop locations to estimate the areas of the counties in Montana. \\nRepresent each county as an ellipse with semi-axes given by a single standard deviation of the longitude and \\nlatitude of stops within that county. What is the area, in square kilometers, of the largest county measured \\nin this manner? Please ignore unrealistic latitude and longitude coordinates.\\n\\n'"
      ]
     },
     "execution_count": 81,
     "metadata": {},
     "output_type": "execute_result"
    }
   ],
   "source": [
    "'''\n",
    "We can use the traffic stop locations to estimate the areas of the counties in Montana. \n",
    "Represent each county as an ellipse with semi-axes given by a single standard deviation of the longitude and \n",
    "latitude of stops within that county. What is the area, in square kilometers, of the largest county measured \n",
    "in this manner? Please ignore unrealistic latitude and longitude coordinates.\n",
    "\n",
    "'''"
   ]
  },
  {
   "cell_type": "code",
   "execution_count": 64,
   "metadata": {},
   "outputs": [
    {
     "data": {
      "image/png": "[encoded data removed]",
      "text/plain": [
       "<matplotlib.figure.Figure at 0x1b73ee79588>"
      ]
     },
     "metadata": {},
     "output_type": "display_data"
    }
   ],
   "source": [
    "# Check the histogram of longitude for stops in Montana\n",
    "Mdata[\"lon\"].hist(bins=100)\n",
    "plt.show()"
   ]
  },
  {
   "cell_type": "code",
   "execution_count": 66,
   "metadata": {},
   "outputs": [
    {
     "data": {
      "text/html": [
       "<div>\n",
       "<style>\n",
       "    .dataframe thead tr:only-child th {\n",
       "        text-align: right;\n",
       "    }\n",
       "\n",
       "    .dataframe thead th {\n",
       "        text-align: left;\n",
       "    }\n",
       "\n",
       "    .dataframe tbody tr th {\n",
       "        vertical-align: top;\n",
       "    }\n",
       "</style>\n",
       "<table border=\"1\" class=\"dataframe\">\n",
       "  <thead>\n",
       "    <tr style=\"text-align: right;\">\n",
       "      <th></th>\n",
       "      <th>lat</th>\n",
       "      <th>lon</th>\n",
       "    </tr>\n",
       "    <tr>\n",
       "      <th>county_name</th>\n",
       "      <th></th>\n",
       "      <th></th>\n",
       "    </tr>\n",
       "  </thead>\n",
       "  <tbody>\n",
       "    <tr>\n",
       "      <th>Treasure County</th>\n",
       "      <td>0.045461</td>\n",
       "      <td>0.138295</td>\n",
       "    </tr>\n",
       "    <tr>\n",
       "      <th>Valley County</th>\n",
       "      <td>0.131271</td>\n",
       "      <td>0.345317</td>\n",
       "    </tr>\n",
       "    <tr>\n",
       "      <th>Wheatland County</th>\n",
       "      <td>0.104154</td>\n",
       "      <td>0.131184</td>\n",
       "    </tr>\n",
       "    <tr>\n",
       "      <th>Wibaux County</th>\n",
       "      <td>0.069986</td>\n",
       "      <td>0.081696</td>\n",
       "    </tr>\n",
       "    <tr>\n",
       "      <th>Yellowstone County</th>\n",
       "      <td>0.089652</td>\n",
       "      <td>0.185244</td>\n",
       "    </tr>\n",
       "  </tbody>\n",
       "</table>\n",
       "</div>"
      ],
      "text/plain": [
       "                         lat       lon\n",
       "county_name                           \n",
       "Treasure County     0.045461  0.138295\n",
       "Valley County       0.131271  0.345317\n",
       "Wheatland County    0.104154  0.131184\n",
       "Wibaux County       0.069986  0.081696\n",
       "Yellowstone County  0.089652  0.185244"
      ]
     },
     "execution_count": 66,
     "metadata": {},
     "output_type": "execute_result"
    }
   ],
   "source": [
    "# Remove the unrealistic latitude and longitude coordinates\n",
    "\n",
    "Mdata_clean = Mdata[(Mdata[\"lat\"] > 40) & (Mdata[\"lat\"] < 55) & (Mdata[\"lon\"] > -120) & (Mdata[\"lon\"] < -100)]\n",
    "Mdata_area = Mdata_clean.groupby(\"county_name\")[[\"lat\",\"lon\"]].std()\n",
    "Mdata_area.tail()"
   ]
  },
  {
   "cell_type": "code",
   "execution_count": 67,
   "metadata": {},
   "outputs": [
    {
     "data": {
      "image/png": "[encoded data removed]",
      "text/plain": [
       "<matplotlib.figure.Figure at 0x1b73ee77978>"
      ]
     },
     "metadata": {},
     "output_type": "display_data"
    }
   ],
   "source": [
    "# Plot the distributions of latitudes and longitudes for all stops in Montana\n",
    "plt.subplot(2,1,1)\n",
    "Mdata_clean[\"lon\"].hist(bins=100)\n",
    "plt.title(\"lon\", loc=\"right\")\n",
    "plt.subplot(2,1,2)\n",
    "Mdata_clean[\"lat\"].hist(bins=100)\n",
    "plt.title(\"lat\", loc=\"right\")\n",
    "plt.show()"
   ]
  },
  {
   "cell_type": "code",
   "execution_count": 68,
   "metadata": {
    "collapsed": true
   },
   "outputs": [],
   "source": [
    "''' \n",
    "The area of ellipse is pi*A*B where A is the semi-major axis and B is the semi-minor axis\n",
    "Based on Wikipedia, each degree of latitude is approximately 111 kilometers away, \n",
    "each degree of Longitude is approximately 111*cos(lat) kilometers away'''\n",
    "\n",
    "Mdata_area[\"area\"] = Mdata_area[\"lat\"] * Mdata_area[\"lon\"] * 111.0 * 111.0 \n",
    "Mdata_area[\"area\"] = Mdata_area[\"area\"].multiply(Mdata_area[\"lat\"].apply(cos))"
   ]
  },
  {
   "cell_type": "code",
   "execution_count": 69,
   "metadata": {},
   "outputs": [
    {
     "name": "stdout",
     "output_type": "stream",
     "text": [
      "Calculated area of the biggest county in Montana: 1016.1120712392\n"
     ]
    }
   ],
   "source": [
    "# Sort the counties by the calculated area and find the biggest one\n",
    "Mdata_area.sort_values(\"area\", ascending=False, inplace=True)\n",
    "print (\"Calculated area of the biggest county in Montana: %.10f\" % Mdata_area[\"area\"][0])"
   ]
  }
 ],
 "metadata": {
  "kernelspec": {
   "display_name": "Python 3",
   "language": "python",
   "name": "python3"
  },
  "language_info": {
   "codemirror_mode": {
    "name": "ipython",
    "version": 3
   },
   "file_extension": ".py",
   "mimetype": "text/x-python",
   "name": "python",
   "nbconvert_exporter": "python",
   "pygments_lexer": "ipython3",
   "version": "3.6.2"
  }
 },
 "nbformat": 4,
 "nbformat_minor": 2
}
