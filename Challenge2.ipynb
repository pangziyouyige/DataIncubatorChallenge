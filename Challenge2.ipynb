{
 "cells": [
  {
   "cell_type": "code",
   "execution_count": 1,
   "metadata": {},
   "outputs": [
    {
     "name": "stderr",
     "output_type": "stream",
     "text": [
      "C:\\ProgramData\\Anaconda3\\lib\\site-packages\\statsmodels\\compat\\pandas.py:56: FutureWarning: The pandas.core.datetools module is deprecated and will be removed in a future version. Please use the pandas.tseries module instead.\n",
      "  from pandas.core import datetools\n"
     ]
    }
   ],
   "source": [
    "import numpy as np\n",
    "import pandas as pd\n",
    "import matplotlib.pyplot as plt\n",
    "import scipy.stats as stats\n",
    "import datetime\n",
    "from sklearn.linear_model import LinearRegression\n",
    "import statsmodels.api as sm\n",
    "from sklearn.feature_selection import f_regression\n",
    "import time\n",
    "from math import pi, cos"
   ]
  },
  {
   "cell_type": "code",
   "execution_count": 2,
   "metadata": {},
   "outputs": [
    {
     "name": "stderr",
     "output_type": "stream",
     "text": [
      "C:\\ProgramData\\Anaconda3\\lib\\site-packages\\IPython\\core\\interactiveshell.py:2717: DtypeWarning: Columns (25,27) have mixed types. Specify dtype option on import or set low_memory=False.\n",
      "  interactivity=interactivity, compiler=compiler, result=result)\n"
     ]
    }
   ],
   "source": [
    "# Load the data from Stanford Open Policing Datasets\n",
    "uil=\"https://stacks.stanford.edu/file/druid:py883nd2578/MT-clean.csv.gz\"\n",
    "Mdata = pd.read_csv(uil, compression='gzip', header=0, parse_dates=True)"
   ]
  },
  {
   "cell_type": "code",
   "execution_count": 3,
   "metadata": {},
   "outputs": [
    {
     "name": "stdout",
     "output_type": "stream",
     "text": [
      "<class 'pandas.core.frame.DataFrame'>\n",
      "RangeIndex: 825118 entries, 0 to 825117\n",
      "Data columns (total 33 columns):\n",
      "id                       825118 non-null object\n",
      "state                    825118 non-null object\n",
      "stop_date                825107 non-null object\n",
      "stop_time                825107 non-null object\n",
      "location_raw             825114 non-null object\n",
      "county_name              821062 non-null object\n",
      "county_fips              821062 non-null float64\n",
      "fine_grained_location    821377 non-null object\n",
      "police_department        0 non-null float64\n",
      "driver_gender            824999 non-null object\n",
      "driver_age_raw           825118 non-null float64\n",
      "driver_age               821638 non-null float64\n",
      "driver_race_raw          825012 non-null object\n",
      "driver_race              822379 non-null object\n",
      "violation_raw            825045 non-null object\n",
      "violation                825045 non-null object\n",
      "search_conducted         825118 non-null bool\n",
      "search_type_raw          3026 non-null object\n",
      "search_type              3026 non-null object\n",
      "contraband_found         822092 non-null object\n",
      "stop_outcome             825065 non-null object\n",
      "is_arrested              825118 non-null bool\n",
      "lat                      824682 non-null float64\n",
      "lon                      824682 non-null float64\n",
      "ethnicity                825020 non-null object\n",
      "city                     275488 non-null object\n",
      "out_of_state             820419 non-null object\n",
      "vehicle_year             818508 non-null object\n",
      "vehicle_make             820850 non-null object\n",
      "vehicle_model            801317 non-null object\n",
      "vehicle_style            759756 non-null object\n",
      "search_reason            2809 non-null object\n",
      "stop_outcome_raw         825065 non-null object\n",
      "dtypes: bool(2), float64(6), object(25)\n",
      "memory usage: 196.7+ MB\n"
     ]
    },
    {
     "data": {
      "text/plain": [
       "(825118, 33)"
      ]
     },
     "execution_count": 3,
     "metadata": {},
     "output_type": "execute_result"
    }
   ],
   "source": [
    "# Check the datasets\n",
    "Mdata.columns\n",
    "Mdata.info()\n",
    "Mdata.head()\n",
    "Mdata.shape\n",
    "# Can also use value_counts() to examine the uniqe value and its counts"
   ]
  },
  {
   "cell_type": "code",
   "execution_count": 4,
   "metadata": {},
   "outputs": [
    {
     "data": {
      "text/html": [
       "<div>\n",
       "<style>\n",
       "    .dataframe thead tr:only-child th {\n",
       "        text-align: right;\n",
       "    }\n",
       "\n",
       "    .dataframe thead th {\n",
       "        text-align: left;\n",
       "    }\n",
       "\n",
       "    .dataframe tbody tr th {\n",
       "        vertical-align: top;\n",
       "    }\n",
       "</style>\n",
       "<table border=\"1\" class=\"dataframe\">\n",
       "  <thead>\n",
       "    <tr style=\"text-align: right;\">\n",
       "      <th></th>\n",
       "      <th>id</th>\n",
       "      <th>state</th>\n",
       "      <th>stop_date</th>\n",
       "      <th>stop_time</th>\n",
       "      <th>location_raw</th>\n",
       "      <th>county_name</th>\n",
       "      <th>county_fips</th>\n",
       "      <th>fine_grained_location</th>\n",
       "      <th>police_department</th>\n",
       "      <th>driver_gender</th>\n",
       "      <th>...</th>\n",
       "      <th>lon</th>\n",
       "      <th>ethnicity</th>\n",
       "      <th>city</th>\n",
       "      <th>out_of_state</th>\n",
       "      <th>vehicle_year</th>\n",
       "      <th>vehicle_make</th>\n",
       "      <th>vehicle_model</th>\n",
       "      <th>vehicle_style</th>\n",
       "      <th>search_reason</th>\n",
       "      <th>stop_outcome_raw</th>\n",
       "    </tr>\n",
       "  </thead>\n",
       "  <tbody>\n",
       "    <tr>\n",
       "      <th>0</th>\n",
       "      <td>MT-2009-00001</td>\n",
       "      <td>MT</td>\n",
       "      <td>2009-01-01</td>\n",
       "      <td>02:10</td>\n",
       "      <td>CASCADE</td>\n",
       "      <td>Cascade County</td>\n",
       "      <td>30013.0</td>\n",
       "      <td>US 89 N MM10 (SB)</td>\n",
       "      <td>NaN</td>\n",
       "      <td>F</td>\n",
       "      <td>...</td>\n",
       "      <td>-111.802932</td>\n",
       "      <td>N</td>\n",
       "      <td>NaN</td>\n",
       "      <td>False</td>\n",
       "      <td>1994</td>\n",
       "      <td>FORD</td>\n",
       "      <td>EXPLORER</td>\n",
       "      <td>SPORT UTILITY</td>\n",
       "      <td>NaN</td>\n",
       "      <td>TRAFFIC CITATION,WARNING</td>\n",
       "    </tr>\n",
       "    <tr>\n",
       "      <th>1</th>\n",
       "      <td>MT-2009-00002</td>\n",
       "      <td>MT</td>\n",
       "      <td>2009-01-02</td>\n",
       "      <td>11:34</td>\n",
       "      <td>MISSOULA</td>\n",
       "      <td>Missoula County</td>\n",
       "      <td>30063.0</td>\n",
       "      <td>HWY 93 SO AND ANNS LANE S/B</td>\n",
       "      <td>NaN</td>\n",
       "      <td>M</td>\n",
       "      <td>...</td>\n",
       "      <td>-114.081142</td>\n",
       "      <td>N</td>\n",
       "      <td>NaN</td>\n",
       "      <td>False</td>\n",
       "      <td>1996</td>\n",
       "      <td>GMC</td>\n",
       "      <td>TK</td>\n",
       "      <td>TRUCK</td>\n",
       "      <td>NaN</td>\n",
       "      <td>INFFRACTION ARREST,WARNING</td>\n",
       "    </tr>\n",
       "    <tr>\n",
       "      <th>2</th>\n",
       "      <td>MT-2009-00003</td>\n",
       "      <td>MT</td>\n",
       "      <td>2009-01-03</td>\n",
       "      <td>11:36</td>\n",
       "      <td>MISSOULA</td>\n",
       "      <td>Missoula County</td>\n",
       "      <td>30063.0</td>\n",
       "      <td>P007 HWY 93 MM 77 N/B</td>\n",
       "      <td>NaN</td>\n",
       "      <td>M</td>\n",
       "      <td>...</td>\n",
       "      <td>-114.073505</td>\n",
       "      <td>N</td>\n",
       "      <td>NaN</td>\n",
       "      <td>False</td>\n",
       "      <td>1999</td>\n",
       "      <td>GMC</td>\n",
       "      <td>YUKON</td>\n",
       "      <td>SPORT UTILITY</td>\n",
       "      <td>NaN</td>\n",
       "      <td>INFFRACTION ARREST</td>\n",
       "    </tr>\n",
       "    <tr>\n",
       "      <th>3</th>\n",
       "      <td>MT-2009-00004</td>\n",
       "      <td>MT</td>\n",
       "      <td>2009-01-04</td>\n",
       "      <td>10:33</td>\n",
       "      <td>MISSOULA</td>\n",
       "      <td>Missoula County</td>\n",
       "      <td>30063.0</td>\n",
       "      <td>P007 HWY 93 MM 81 S/B</td>\n",
       "      <td>NaN</td>\n",
       "      <td>F</td>\n",
       "      <td>...</td>\n",
       "      <td>-114.079027</td>\n",
       "      <td>NaN</td>\n",
       "      <td>NaN</td>\n",
       "      <td>False</td>\n",
       "      <td>2002</td>\n",
       "      <td>HOND</td>\n",
       "      <td>CR-V</td>\n",
       "      <td>SPORT UTILITY</td>\n",
       "      <td>NaN</td>\n",
       "      <td>INFFRACTION ARREST</td>\n",
       "    </tr>\n",
       "    <tr>\n",
       "      <th>4</th>\n",
       "      <td>MT-2009-00005</td>\n",
       "      <td>MT</td>\n",
       "      <td>2009-01-04</td>\n",
       "      <td>10:46</td>\n",
       "      <td>MISSOULA</td>\n",
       "      <td>Missoula County</td>\n",
       "      <td>30063.0</td>\n",
       "      <td>P007 HWY 93 MM 81 N/B</td>\n",
       "      <td>NaN</td>\n",
       "      <td>M</td>\n",
       "      <td>...</td>\n",
       "      <td>-114.079150</td>\n",
       "      <td>NaN</td>\n",
       "      <td>NaN</td>\n",
       "      <td>False</td>\n",
       "      <td>1992</td>\n",
       "      <td>TOYT</td>\n",
       "      <td>TERCEL</td>\n",
       "      <td>SEDAN</td>\n",
       "      <td>NaN</td>\n",
       "      <td>INFFRACTION ARREST</td>\n",
       "    </tr>\n",
       "  </tbody>\n",
       "</table>\n",
       "<p>5 rows × 33 columns</p>\n",
       "</div>"
      ],
      "text/plain": [
       "              id state  stop_date stop_time location_raw      county_name  \\\n",
       "0  MT-2009-00001    MT 2009-01-01     02:10      CASCADE   Cascade County   \n",
       "1  MT-2009-00002    MT 2009-01-02     11:34     MISSOULA  Missoula County   \n",
       "2  MT-2009-00003    MT 2009-01-03     11:36     MISSOULA  Missoula County   \n",
       "3  MT-2009-00004    MT 2009-01-04     10:33     MISSOULA  Missoula County   \n",
       "4  MT-2009-00005    MT 2009-01-04     10:46     MISSOULA  Missoula County   \n",
       "\n",
       "   county_fips        fine_grained_location  police_department driver_gender  \\\n",
       "0      30013.0            US 89 N MM10 (SB)                NaN             F   \n",
       "1      30063.0  HWY 93 SO AND ANNS LANE S/B                NaN             M   \n",
       "2      30063.0        P007 HWY 93 MM 77 N/B                NaN             M   \n",
       "3      30063.0        P007 HWY 93 MM 81 S/B                NaN             F   \n",
       "4      30063.0        P007 HWY 93 MM 81 N/B                NaN             M   \n",
       "\n",
       "              ...                     lon  ethnicity city out_of_state  \\\n",
       "0             ...             -111.802932          N  NaN        False   \n",
       "1             ...             -114.081142          N  NaN        False   \n",
       "2             ...             -114.073505          N  NaN        False   \n",
       "3             ...             -114.079027        NaN  NaN        False   \n",
       "4             ...             -114.079150        NaN  NaN        False   \n",
       "\n",
       "  vehicle_year vehicle_make  vehicle_model  vehicle_style search_reason  \\\n",
       "0         1994         FORD       EXPLORER  SPORT UTILITY           NaN   \n",
       "1         1996          GMC             TK          TRUCK           NaN   \n",
       "2         1999          GMC          YUKON  SPORT UTILITY           NaN   \n",
       "3         2002         HOND           CR-V  SPORT UTILITY           NaN   \n",
       "4         1992         TOYT         TERCEL          SEDAN           NaN   \n",
       "\n",
       "             stop_outcome_raw  \n",
       "0    TRAFFIC CITATION,WARNING  \n",
       "1  INFFRACTION ARREST,WARNING  \n",
       "2          INFFRACTION ARREST  \n",
       "3          INFFRACTION ARREST  \n",
       "4          INFFRACTION ARREST  \n",
       "\n",
       "[5 rows x 33 columns]"
      ]
     },
     "execution_count": 4,
     "metadata": {},
     "output_type": "execute_result"
    }
   ],
   "source": [
    "# Change data type, first change the stop_date column into a datatime\n",
    "Mdata[\"stop_date\"] = pd.to_datetime(Mdata[\"stop_date\"])\n",
    "Mdata.head()"
   ]
  },
  {
   "cell_type": "code",
   "execution_count": null,
   "metadata": {
    "collapsed": true
   },
   "outputs": [],
   "source": [
    "'''\n",
    "Q1 What proportion of traffic stops in Montana involved male drivers? In other words, divide the number of traffic stops \n",
    "involving male drivers by the total number of stops.\n",
    "\n",
    "0.6750723334210103\n",
    "\n",
    "'''"
   ]
  },
  {
   "cell_type": "code",
   "execution_count": 83,
   "metadata": {},
   "outputs": [
    {
     "name": "stdout",
     "output_type": "stream",
     "text": [
      "0.6750723334210103\n"
     ]
    }
   ],
   "source": [
    "# First check all the unique ID of stop in Montana and whetehr there is NaN in ID\n",
    "Mdata[\"id\"].nunique()\n",
    "Mdata[\"id\"].isnull().sum()\n",
    "\n",
    "\n",
    "# We also need to check whether there is any NaN in the driver_gender column\n",
    "Mdata[\"driver_gender\"].isnull().sum()\n",
    "\n",
    "# Sincere there are 119 NaN in the driver_gender column, we don't include them in the proportion calculation\n",
    "proportion = Mdata.groupby(\"driver_gender\")[\"id\"].count()[\"M\"]/Mdata.driver_gender.count()\n",
    "print(proportion)"
   ]
  },
  {
   "cell_type": "code",
   "execution_count": null,
   "metadata": {
    "collapsed": true
   },
   "outputs": [],
   "source": [
    "'''\n",
    "How many more times likely are you to be arrested in Montana during a traffic stop if you have out of state plates?\n",
    "\n",
    "1.2095129351452942\n",
    "'''"
   ]
  },
  {
   "cell_type": "code",
   "execution_count": 136,
   "metadata": {},
   "outputs": [
    {
     "name": "stdout",
     "output_type": "stream",
     "text": [
      "1.2095129351452942\n",
      "1.2051830449542686\n"
     ]
    }
   ],
   "source": [
    "# First check whether there is NaN, and find there are 4699 NaNs in the out_of_state column, but no NaN for is_arrested column\n",
    "Mdata[\"out_of_state\"].isnull().sum()\n",
    "Mdata[\"is_arrested\"].isnull().sum()\n",
    "\n",
    "# If we disgard the NaNs\n",
    "times = data.groupby([\"out_of_state\",\"is_arrested\"])[\"id\"].count()\n",
    "print ((times[1,1]/(times[1,1]+times[1,0]))/(times[0,1]/(times[0,1]+times[0,0])))\n",
    "\n",
    "# If we keep the NaNs and consider them as in state for a conservative calculation\n",
    "times = pd.crosstab(Mdata.is_arrested == True, Mdata.out_of_state == True)\n",
    "print ((times.iloc[1, 1]/(times.iloc[1, 1]+times.iloc[0, 1]))/(times.iloc[1, 0]/(times.iloc[1, 0]+times.iloc[0, 0])))"
   ]
  },
  {
   "cell_type": "code",
   "execution_count": null,
   "metadata": {
    "collapsed": true
   },
   "outputs": [],
   "source": [
    "'''\n",
    "Perform a (χ2) test to determine whether the proportions of arrests in these two populations are equal. \n",
    "What is the value of the test statistic?\n",
    "\n",
    "chi-squared statistic \n",
    "\n",
    "Null: there is no relationship between two variables, being arrested and being outside plate are independent.\n",
    "Given the low p-value, the test result does find a significant relationship between the variables.\n",
    "\n",
    "'''"
   ]
  },
  {
   "cell_type": "code",
   "execution_count": 162,
   "metadata": {
    "collapsed": true,
    "scrolled": true
   },
   "outputs": [],
   "source": [
    "# First conduct Chi-Squared Goodness-Of-Fit Test\n",
    "Instate = Mdata[Mdata[\"out_of_state\"]==False][[\"is_arrested\"]]\n",
    "Outstate = Mdata[Mdata[\"out_of_state\"]==True][[\"is_arrested\"]]\n",
    "#Instate.is_arrested = Instate.is_arrested.apply(lambda x: 1 if x==True else 0)\n",
    "#Outstate.is_arrested = Outstate.is_arrested.apply(lambda x: 1 if x==True else 0)"
   ]
  },
  {
   "cell_type": "code",
   "execution_count": 178,
   "metadata": {
    "collapsed": true
   },
   "outputs": [],
   "source": [
    "Instate_table = pd.crosstab(index=Instate[\"is_arrested\"], columns=\"count\")\n",
    "Outstate_table = pd.crosstab(index=Outstate[\"is_arrested\"], columns=\"count\")"
   ]
  },
  {
   "cell_type": "code",
   "execution_count": 189,
   "metadata": {},
   "outputs": [
    {
     "name": "stdout",
     "output_type": "stream",
     "text": [
      "col_0\n",
      "count    180.231661\n",
      "dtype: float64\n"
     ]
    }
   ],
   "source": [
    "observed = Outstate_table\n",
    "ratios = Instate_table/len(Instate)\n",
    "expected = ratios * len(Outstate)\n",
    "chi_squared_stat = (((observed-expected)**2)/expected).sum()\n",
    "print (chi_squared_stat)"
   ]
  },
  {
   "cell_type": "code",
   "execution_count": 188,
   "metadata": {},
   "outputs": [
    {
     "name": "stdout",
     "output_type": "stream",
     "text": [
      "3.8414588206941236 [0.]\n"
     ]
    }
   ],
   "source": [
    "#  we compare the chi-square test statistic to a critical value based on the chi-square distribution at 98% confidence interval.\n",
    "crit = stats.chi2.ppf(q = 0.95, df = 1) \n",
    "p_value = 1 - stats.chi2.cdf(x=chi_squared_stat, df=4)\n",
    "print (crit, p_value)"
   ]
  },
  {
   "cell_type": "code",
   "execution_count": 190,
   "metadata": {},
   "outputs": [
    {
     "data": {
      "text/plain": [
       "Power_divergenceResult(statistic=array([180.2316613]), pvalue=array([4.31359566e-41]))"
      ]
     },
     "execution_count": 190,
     "metadata": {},
     "output_type": "execute_result"
    }
   ],
   "source": [
    "stats.chisquare(f_obs= observed, f_exp= expected)"
   ]
  },
  {
   "cell_type": "code",
   "execution_count": 210,
   "metadata": {},
   "outputs": [
    {
     "data": {
      "text/html": [
       "<div>\n",
       "<style scoped>\n",
       "    .dataframe tbody tr th:only-of-type {\n",
       "        vertical-align: middle;\n",
       "    }\n",
       "\n",
       "    .dataframe tbody tr th {\n",
       "        vertical-align: top;\n",
       "    }\n",
       "\n",
       "    .dataframe thead th {\n",
       "        text-align: right;\n",
       "    }\n",
       "</style>\n",
       "<table border=\"1\" class=\"dataframe\">\n",
       "  <thead>\n",
       "    <tr style=\"text-align: right;\">\n",
       "      <th>out_of_state</th>\n",
       "      <th>False</th>\n",
       "      <th>True</th>\n",
       "    </tr>\n",
       "    <tr>\n",
       "      <th>is_arrested</th>\n",
       "      <th></th>\n",
       "      <th></th>\n",
       "    </tr>\n",
       "  </thead>\n",
       "  <tbody>\n",
       "    <tr>\n",
       "      <th>False</th>\n",
       "      <td>604588</td>\n",
       "      <td>198773</td>\n",
       "    </tr>\n",
       "    <tr>\n",
       "      <th>True</th>\n",
       "      <td>12190</td>\n",
       "      <td>4868</td>\n",
       "    </tr>\n",
       "  </tbody>\n",
       "</table>\n",
       "</div>"
      ],
      "text/plain": [
       "out_of_state   False   True \n",
       "is_arrested                 \n",
       "False         604588  198773\n",
       "True           12190    4868"
      ]
     },
     "execution_count": 210,
     "metadata": {},
     "output_type": "execute_result"
    }
   ],
   "source": [
    "# An alternative is to test the Chi-Squared Test of Independence\n",
    "Independence_tab = pd.crosstab(Mdata.is_arrested, Mdata.out_of_state, margins = True)\n",
    "observed = Independence_tab.iloc[0:2,0:2]\n",
    "observed"
   ]
  },
  {
   "cell_type": "code",
   "execution_count": 216,
   "metadata": {},
   "outputs": [
    {
     "data": {
      "text/plain": [
       "128.93246771507611"
      ]
     },
     "execution_count": 216,
     "metadata": {},
     "output_type": "execute_result"
    }
   ],
   "source": [
    "expected =  np.outer(Independence_tab[\"All\"][0:2], Independence_tab.loc[\"All\"][0:2]) / 820419\n",
    "expected = pd.DataFrame(expected)\n",
    "chi_squared_stat = (((observed-expected)**2)/expected).sum().sum()\n",
    "chi_squared_stat"
   ]
  },
  {
   "cell_type": "code",
   "execution_count": 215,
   "metadata": {},
   "outputs": [
    {
     "name": "stdout",
     "output_type": "stream",
     "text": [
      "3.8414588206941236 0.0\n"
     ]
    }
   ],
   "source": [
    "crit = stats.chi2.ppf(q = 0.95, df = 1)\n",
    "p_value = 1 - stats.chi2.cdf(x=chi_squared_stat,df=1)\n",
    "print (crit, p_value)"
   ]
  },
  {
   "cell_type": "code",
   "execution_count": 214,
   "metadata": {},
   "outputs": [
    {
     "data": {
      "text/plain": [
       "(128.72916324226682,\n",
       " 7.773353035854224e-30,\n",
       " 1,\n",
       " array([[603954.06598092, 199406.93401908],\n",
       "        [ 12823.93401908,   4234.06598092]]))"
      ]
     },
     "execution_count": 214,
     "metadata": {},
     "output_type": "execute_result"
    }
   ],
   "source": [
    "stats.chi2_contingency(observed= observed)"
   ]
  },
  {
   "cell_type": "code",
   "execution_count": null,
   "metadata": {
    "collapsed": true
   },
   "outputs": [],
   "source": [
    "'''\n",
    "What proportion of traffic stops in Montana resulted in speeding violations? In other words, find the number of violations \n",
    "that include \"Speeding\" in the violation description and divide that number by the total number of stops \n",
    "(or rows in the Montana dataset).\n",
    "\n",
    "0.6580998111785223\n",
    "\n",
    "'''"
   ]
  },
  {
   "cell_type": "code",
   "execution_count": 229,
   "metadata": {},
   "outputs": [
    {
     "data": {
      "text/plain": [
       "0.6580998111785223"
      ]
     },
     "execution_count": 229,
     "metadata": {},
     "output_type": "execute_result"
    }
   ],
   "source": [
    "Mdata.violation.str.contains(\"Speeding|speeding\").sum()/Mdata.shape[0]"
   ]
  },
  {
   "cell_type": "code",
   "execution_count": null,
   "metadata": {
    "collapsed": true
   },
   "outputs": [],
   "source": [
    "'''\n",
    "How much more likely does a traffic stop in Montana result in a DUI than a traffic stop in Vermont? \n",
    "To compute the proportion of traffic stops that result in a DUI, divide the number of stops with \"DUI\" in the \n",
    "violation description by the total number of stops.\n",
    "\n",
    "4.085999694420856\n",
    "'''"
   ]
  },
  {
   "cell_type": "code",
   "execution_count": 235,
   "metadata": {
    "collapsed": true
   },
   "outputs": [],
   "source": [
    "MDUI = Mdata.violation.str.contains(\"DUI\").sum()/Mdata.shape[0]"
   ]
  },
  {
   "cell_type": "code",
   "execution_count": 45,
   "metadata": {},
   "outputs": [
    {
     "name": "stderr",
     "output_type": "stream",
     "text": [
      "C:\\Users\\zhengy\\AppData\\Local\\Continuum\\anaconda3\\lib\\site-packages\\IPython\\core\\interactiveshell.py:2728: DtypeWarning: Columns (19) have mixed types. Specify dtype option on import or set low_memory=False.\n",
      "  interactivity=interactivity, compiler=compiler, result=result)\n"
     ]
    }
   ],
   "source": [
    "uil=\"https://stacks.stanford.edu/file/druid:py883nd2578/VT-clean.csv.gz\"\n",
    "Vdata = pd.read_csv(uil, compression='gzip', header=0)"
   ]
  },
  {
   "cell_type": "code",
   "execution_count": 233,
   "metadata": {
    "collapsed": true
   },
   "outputs": [],
   "source": [
    "VDUI = Vdata.violation.str.contains(\"DUI\").sum()/Vdata.shape[0]"
   ]
  },
  {
   "cell_type": "code",
   "execution_count": 237,
   "metadata": {},
   "outputs": [
    {
     "data": {
      "text/plain": [
       "4.085999694420856"
      ]
     },
     "execution_count": 237,
     "metadata": {},
     "output_type": "execute_result"
    }
   ],
   "source": [
    "ratio = MDUI/VDUI\n",
    "ratio"
   ]
  },
  {
   "cell_type": "code",
   "execution_count": null,
   "metadata": {
    "collapsed": true
   },
   "outputs": [],
   "source": [
    "'''\n",
    "What is the extrapolated, average manufacture year of vehicles involved in traffic stops in Montana in 2020? \n",
    "To answer this question, calculate the average vehicle manufacture year for each year's traffic stops. \n",
    "Extrapolate using a linear regression.\n",
    "\n",
    "2008.84316596\n",
    "\n",
    "'''"
   ]
  },
  {
   "cell_type": "code",
   "execution_count": 269,
   "metadata": {
    "collapsed": true
   },
   "outputs": [],
   "source": [
    "myv = Mdata.loc[:]\n",
    "myv[\"year\"]=myv[\"stop_date\"].dt.year\n",
    "myv[\"vehicle_year\"] = pd.to_numeric(myv[\"vehicle_year\"], errors=\"coerce\")\n",
    "myv.set_index(\"stop_date\", inplace=True)\n",
    "myv_y = myv[[\"vehicle_year\", \"year\"]].resample(\"A\").mean()\n",
    "myv_y = myv_y.reset_index()\n",
    "del myv_y[\"stop_date\"]"
   ]
  },
  {
   "cell_type": "code",
   "execution_count": 270,
   "metadata": {},
   "outputs": [
    {
     "data": {
      "text/html": [
       "<div>\n",
       "<style scoped>\n",
       "    .dataframe tbody tr th:only-of-type {\n",
       "        vertical-align: middle;\n",
       "    }\n",
       "\n",
       "    .dataframe tbody tr th {\n",
       "        vertical-align: top;\n",
       "    }\n",
       "\n",
       "    .dataframe thead th {\n",
       "        text-align: right;\n",
       "    }\n",
       "</style>\n",
       "<table border=\"1\" class=\"dataframe\">\n",
       "  <thead>\n",
       "    <tr style=\"text-align: right;\">\n",
       "      <th></th>\n",
       "      <th>vehicle_year</th>\n",
       "      <th>year</th>\n",
       "    </tr>\n",
       "  </thead>\n",
       "  <tbody>\n",
       "    <tr>\n",
       "      <th>0</th>\n",
       "      <td>2000.980215</td>\n",
       "      <td>2009.0</td>\n",
       "    </tr>\n",
       "    <tr>\n",
       "      <th>1</th>\n",
       "      <td>2001.521377</td>\n",
       "      <td>2010.0</td>\n",
       "    </tr>\n",
       "    <tr>\n",
       "      <th>2</th>\n",
       "      <td>2002.280938</td>\n",
       "      <td>2011.0</td>\n",
       "    </tr>\n",
       "    <tr>\n",
       "      <th>3</th>\n",
       "      <td>2003.362207</td>\n",
       "      <td>2012.0</td>\n",
       "    </tr>\n",
       "    <tr>\n",
       "      <th>4</th>\n",
       "      <td>2003.905175</td>\n",
       "      <td>2013.0</td>\n",
       "    </tr>\n",
       "    <tr>\n",
       "      <th>5</th>\n",
       "      <td>2004.482506</td>\n",
       "      <td>2014.0</td>\n",
       "    </tr>\n",
       "    <tr>\n",
       "      <th>6</th>\n",
       "      <td>2005.295767</td>\n",
       "      <td>2015.0</td>\n",
       "    </tr>\n",
       "    <tr>\n",
       "      <th>7</th>\n",
       "      <td>2005.872128</td>\n",
       "      <td>2016.0</td>\n",
       "    </tr>\n",
       "  </tbody>\n",
       "</table>\n",
       "</div>"
      ],
      "text/plain": [
       "   vehicle_year    year\n",
       "0   2000.980215  2009.0\n",
       "1   2001.521377  2010.0\n",
       "2   2002.280938  2011.0\n",
       "3   2003.362207  2012.0\n",
       "4   2003.905175  2013.0\n",
       "5   2004.482506  2014.0\n",
       "6   2005.295767  2015.0\n",
       "7   2005.872128  2016.0"
      ]
     },
     "execution_count": 270,
     "metadata": {},
     "output_type": "execute_result"
    }
   ],
   "source": []
  },
  {
   "cell_type": "code",
   "execution_count": 279,
   "metadata": {},
   "outputs": [
    {
     "name": "stdout",
     "output_type": "stream",
     "text": [
      "Slope: 0.717417 Intercept: 559.661028\n"
     ]
    }
   ],
   "source": [
    "# Apply linear regression \n",
    "lr = LinearRegression()\n",
    "X, y = myv_y[\"year\"].values[:,np.newaxis], myv_y[\"vehicle_year\"].values\n",
    "lr.fit(X,y)\n",
    "print(\"Slope: %f\" % lr.coef_[0], \"Intercept: %f\" % lr.intercept_)"
   ]
  },
  {
   "cell_type": "code",
   "execution_count": 280,
   "metadata": {
    "collapsed": true
   },
   "outputs": [],
   "source": [
    "def lrplot(X,y, model):\n",
    "    plt.scatter(X,y, c=\"red\")\n",
    "    plt.plot(X, model.predict(X), color=\"blue\")\n",
    "    return None"
   ]
  },
  {
   "cell_type": "code",
   "execution_count": 282,
   "metadata": {},
   "outputs": [
    {
     "data": {
      "image/png": "[encoded data removed]",
      "text/plain": [
       "<matplotlib.figure.Figure at 0x1ab16274a90>"
      ]
     },
     "metadata": {},
     "output_type": "display_data"
    }
   ],
   "source": [
    "lrplot(X, y, lr)\n",
    "plt.xlabel(\"Stop Year\")\n",
    "plt.ylabel(\"Average Manufacture Year\")\n",
    "plt.show()"
   ]
  },
  {
   "cell_type": "code",
   "execution_count": 284,
   "metadata": {},
   "outputs": [
    {
     "data": {
      "text/plain": [
       "array([2008.84316596])"
      ]
     },
     "execution_count": 284,
     "metadata": {},
     "output_type": "execute_result"
    }
   ],
   "source": [
    "estimate = lr.predict([[2020]])\n",
    "estimate"
   ]
  },
  {
   "cell_type": "code",
   "execution_count": null,
   "metadata": {
    "collapsed": true
   },
   "outputs": [],
   "source": [
    "'''What is the p-value of this linear regression?\n",
    "\n",
    "0.0\n",
    "'''"
   ]
  },
  {
   "cell_type": "code",
   "execution_count": 304,
   "metadata": {
    "scrolled": true
   },
   "outputs": [
    {
     "name": "stdout",
     "output_type": "stream",
     "text": [
      "                            OLS Regression Results                            \n",
      "==============================================================================\n",
      "Dep. Variable:                      y   R-squared:                       0.994\n",
      "Model:                            OLS   Adj. R-squared:                  0.993\n",
      "Method:                 Least Squares   F-statistic:                     1058.\n",
      "Date:                Thu, 26 Apr 2018   Prob (F-statistic):           5.61e-08\n",
      "Time:                        14:52:13   Log-Likelihood:                 5.3634\n",
      "No. Observations:                   8   AIC:                            -6.727\n",
      "Df Residuals:                       6   BIC:                            -6.568\n",
      "Df Model:                           1                                         \n",
      "Covariance Type:            nonrobust                                         \n",
      "==============================================================================\n",
      "                 coef    std err          t      P>|t|      [0.025      0.975]\n",
      "------------------------------------------------------------------------------\n",
      "const        559.6610     44.379     12.611      0.000     451.069     668.253\n",
      "x1             0.7174      0.022     32.533      0.000       0.663       0.771\n",
      "==============================================================================\n",
      "Omnibus:                        2.434   Durbin-Watson:                   1.994\n",
      "Prob(Omnibus):                  0.296   Jarque-Bera (JB):                0.895\n",
      "Skew:                           0.812   Prob(JB):                        0.639\n",
      "Kurtosis:                       2.783   Cond. No.                     1.77e+06\n",
      "==============================================================================\n",
      "\n",
      "Warnings:\n",
      "[1] Standard Errors assume that the covariance matrix of the errors is correctly specified.\n",
      "[2] The condition number is large, 1.77e+06. This might indicate that there are\n",
      "strong multicollinearity or other numerical problems.\n"
     ]
    },
    {
     "name": "stderr",
     "output_type": "stream",
     "text": [
      "C:\\Users\\zhengy\\AppData\\Local\\Continuum\\anaconda3\\lib\\site-packages\\scipy\\stats\\stats.py:1390: UserWarning: kurtosistest only valid for n>=20 ... continuing anyway, n=8\n",
      "  \"anyway, n=%i\" % int(n))\n"
     ]
    }
   ],
   "source": [
    "Xnew = sm.add_constant(X)\n",
    "params = sm.OLS(y, Xnew).fit()\n",
    "print(params.summary())"
   ]
  },
  {
   "cell_type": "code",
   "execution_count": 1,
   "metadata": {},
   "outputs": [
    {
     "ename": "NameError",
     "evalue": "name 'f_regression' is not defined",
     "output_type": "error",
     "traceback": [
      "\u001b[1;31m---------------------------------------------------------------------------\u001b[0m",
      "\u001b[1;31mNameError\u001b[0m                                 Traceback (most recent call last)",
      "\u001b[1;32m<ipython-input-1-2738acee5eb4>\u001b[0m in \u001b[0;36m<module>\u001b[1;34m()\u001b[0m\n\u001b[0;32m      1\u001b[0m \u001b[1;31m# p value of the linear regression. It is significant that there exists relationships between manufacture year and year of stop.\u001b[0m\u001b[1;33m\u001b[0m\u001b[1;33m\u001b[0m\u001b[0m\n\u001b[1;32m----> 2\u001b[1;33m \u001b[0mf_regression\u001b[0m\u001b[1;33m(\u001b[0m\u001b[0mX\u001b[0m\u001b[1;33m,\u001b[0m \u001b[0my\u001b[0m\u001b[1;33m)\u001b[0m\u001b[1;33m\u001b[0m\u001b[0m\n\u001b[0m",
      "\u001b[1;31mNameError\u001b[0m: name 'f_regression' is not defined"
     ]
    }
   ],
   "source": [
    "# p value of the linear regression. It is significant that there exists relationships between manufacture year and year of stop.\n",
    "f_regression(X, y)"
   ]
  },
  {
   "cell_type": "code",
   "execution_count": null,
   "metadata": {
    "collapsed": true
   },
   "outputs": [],
   "source": [
    "'''\n",
    "Combining both the Vermont and Montana datasets, find the hours when the most and least number of traffic stops occurred. \n",
    "What is the difference in the total number of stops that occurred in these two hours? Hours range from 00 to 23. \n",
    "Round stop times down to compute this difference.\n",
    "\n",
    "878\n",
    "\n",
    "'''"
   ]
  },
  {
   "cell_type": "code",
   "execution_count": 43,
   "metadata": {},
   "outputs": [
    {
     "name": "stderr",
     "output_type": "stream",
     "text": [
      "C:\\Users\\zhengy\\AppData\\Local\\Continuum\\anaconda3\\lib\\site-packages\\ipykernel_launcher.py:2: SettingWithCopyWarning: \n",
      "A value is trying to be set on a copy of a slice from a DataFrame.\n",
      "Try using .loc[row_indexer,col_indexer] = value instead\n",
      "\n",
      "See the caveats in the documentation: http://pandas.pydata.org/pandas-docs/stable/indexing.html#indexing-view-versus-copy\n",
      "  \n",
      "C:\\Users\\zhengy\\AppData\\Local\\Continuum\\anaconda3\\lib\\site-packages\\ipykernel_launcher.py:3: SettingWithCopyWarning: \n",
      "A value is trying to be set on a copy of a slice from a DataFrame.\n",
      "Try using .loc[row_indexer,col_indexer] = value instead\n",
      "\n",
      "See the caveats in the documentation: http://pandas.pydata.org/pandas-docs/stable/indexing.html#indexing-view-versus-copy\n",
      "  This is separate from the ipykernel package so we can avoid doing imports until\n"
     ]
    }
   ],
   "source": [
    "Mdata_least = Mdata[[\"id\", \"stop_time\"]]\n",
    "Mdata_least[\"state\"] = \"Montana\"\n",
    "Mdata_least[\"hour\"] = Mdata_least[\"stop_time\"].str.split(\":\").str.get(0)"
   ]
  },
  {
   "cell_type": "code",
   "execution_count": 46,
   "metadata": {},
   "outputs": [
    {
     "name": "stderr",
     "output_type": "stream",
     "text": [
      "C:\\Users\\zhengy\\AppData\\Local\\Continuum\\anaconda3\\lib\\site-packages\\ipykernel_launcher.py:2: SettingWithCopyWarning: \n",
      "A value is trying to be set on a copy of a slice from a DataFrame.\n",
      "Try using .loc[row_indexer,col_indexer] = value instead\n",
      "\n",
      "See the caveats in the documentation: http://pandas.pydata.org/pandas-docs/stable/indexing.html#indexing-view-versus-copy\n",
      "  \n",
      "C:\\Users\\zhengy\\AppData\\Local\\Continuum\\anaconda3\\lib\\site-packages\\ipykernel_launcher.py:3: SettingWithCopyWarning: \n",
      "A value is trying to be set on a copy of a slice from a DataFrame.\n",
      "Try using .loc[row_indexer,col_indexer] = value instead\n",
      "\n",
      "See the caveats in the documentation: http://pandas.pydata.org/pandas-docs/stable/indexing.html#indexing-view-versus-copy\n",
      "  This is separate from the ipykernel package so we can avoid doing imports until\n"
     ]
    }
   ],
   "source": [
    "Vdata_least = Vdata[[\"id\", \"stop_time\"]]\n",
    "Vdata_least[\"state\"] = \"Vermont\"\n",
    "Vdata_least[\"hour\"] = Vdata_least[\"stop_time\"].str.split(\":\").str.get(0)"
   ]
  },
  {
   "cell_type": "code",
   "execution_count": 58,
   "metadata": {},
   "outputs": [
    {
     "data": {
      "text/plain": [
       "hour\n",
       "00    25490\n",
       "01    16856\n",
       "02     8399\n",
       "03     1425\n",
       "04      547\n",
       "05     1710\n",
       "06     8561\n",
       "07    41550\n",
       "08    62488\n",
       "09    62233\n",
       "10    61946\n",
       "11    51008\n",
       "12    44024\n",
       "13    59281\n",
       "14    82129\n",
       "15    95891\n",
       "16    86886\n",
       "17    81437\n",
       "18    82430\n",
       "19    57980\n",
       "20    47244\n",
       "21    45891\n",
       "22    44387\n",
       "23    38599\n",
       "Name: id, dtype: int64"
      ]
     },
     "execution_count": 58,
     "metadata": {},
     "output_type": "execute_result"
    }
   ],
   "source": [
    "hourly = pd.concat([Mdata_least, Vdata_least], axis=0).groupby(\"hour\")[\"id\"].count()\n",
    "hourly"
   ]
  },
  {
   "cell_type": "code",
   "execution_count": 64,
   "metadata": {},
   "outputs": [
    {
     "name": "stdout",
     "output_type": "stream",
     "text": [
      "878\n"
     ]
    }
   ],
   "source": [
    "two_state_rank = pd.DataFrame({'hour':hourly.index, 'count':hourly.values})\n",
    "two_state_rank.sort_values(\"count\", ascending=True, inplace=True)\n",
    "diff = two_state_rank.iloc[1,0]-two_state_rank.iloc[0,0]\n",
    "print(diff)"
   ]
  },
  {
   "cell_type": "code",
   "execution_count": 81,
   "metadata": {},
   "outputs": [
    {
     "data": {
      "text/plain": [
       "'\\nWe can use the traffic stop locations to estimate the areas of the counties in Montana. \\nRepresent each county as an ellipse with semi-axes given by a single standard deviation of the longitude and \\nlatitude of stops within that county. What is the area, in square kilometers, of the largest county measured \\nin this manner? Please ignore unrealistic latitude and longitude coordinates.\\n\\n'"
      ]
     },
     "execution_count": 81,
     "metadata": {},
     "output_type": "execute_result"
    }
   ],
   "source": [
    "'''\n",
    "We can use the traffic stop locations to estimate the areas of the counties in Montana. \n",
    "Represent each county as an ellipse with semi-axes given by a single standard deviation of the longitude and \n",
    "latitude of stops within that county. What is the area, in square kilometers, of the largest county measured \n",
    "in this manner? Please ignore unrealistic latitude and longitude coordinates.\n",
    "\n",
    "'''"
   ]
  },
  {
   "cell_type": "code",
   "execution_count": 30,
   "metadata": {},
   "outputs": [
    {
     "data": {
      "image/png": "[encoded data removed]",
      "text/plain": [
       "<matplotlib.figure.Figure at 0xd6e6f60>"
      ]
     },
     "metadata": {},
     "output_type": "display_data"
    }
   ],
   "source": [
    "Mdata[\"lon\"].hist(bins=100)\n",
    "plt.show()"
   ]
  },
  {
   "cell_type": "code",
   "execution_count": 78,
   "metadata": {},
   "outputs": [
    {
     "data": {
      "text/html": [
       "<div>\n",
       "<style>\n",
       "    .dataframe thead tr:only-child th {\n",
       "        text-align: right;\n",
       "    }\n",
       "\n",
       "    .dataframe thead th {\n",
       "        text-align: left;\n",
       "    }\n",
       "\n",
       "    .dataframe tbody tr th {\n",
       "        vertical-align: top;\n",
       "    }\n",
       "</style>\n",
       "<table border=\"1\" class=\"dataframe\">\n",
       "  <thead>\n",
       "    <tr style=\"text-align: right;\">\n",
       "      <th></th>\n",
       "      <th>lat</th>\n",
       "      <th>lon</th>\n",
       "    </tr>\n",
       "    <tr>\n",
       "      <th>county_name</th>\n",
       "      <th></th>\n",
       "      <th></th>\n",
       "    </tr>\n",
       "  </thead>\n",
       "  <tbody>\n",
       "    <tr>\n",
       "      <th>Treasure County</th>\n",
       "      <td>0.045461</td>\n",
       "      <td>0.138295</td>\n",
       "    </tr>\n",
       "    <tr>\n",
       "      <th>Valley County</th>\n",
       "      <td>0.131271</td>\n",
       "      <td>0.345317</td>\n",
       "    </tr>\n",
       "    <tr>\n",
       "      <th>Wheatland County</th>\n",
       "      <td>0.104154</td>\n",
       "      <td>0.131184</td>\n",
       "    </tr>\n",
       "    <tr>\n",
       "      <th>Wibaux County</th>\n",
       "      <td>0.069986</td>\n",
       "      <td>0.081696</td>\n",
       "    </tr>\n",
       "    <tr>\n",
       "      <th>Yellowstone County</th>\n",
       "      <td>0.089652</td>\n",
       "      <td>0.185244</td>\n",
       "    </tr>\n",
       "  </tbody>\n",
       "</table>\n",
       "</div>"
      ],
      "text/plain": [
       "                         lat       lon\n",
       "county_name                           \n",
       "Treasure County     0.045461  0.138295\n",
       "Valley County       0.131271  0.345317\n",
       "Wheatland County    0.104154  0.131184\n",
       "Wibaux County       0.069986  0.081696\n",
       "Yellowstone County  0.089652  0.185244"
      ]
     },
     "execution_count": 78,
     "metadata": {},
     "output_type": "execute_result"
    }
   ],
   "source": [
    "# The area of ellipse is pi*A*B where A is the semi-major axis and B is the semi-minor axis\n",
    "'''Based on Wikipedia, each degree of latitude is approximately 111 kilometers away, \n",
    "each degree of Longitude is approximately 111*cos(lati) kilometers away'''\n",
    "Mdata_clean = Mdata[(Mdata[\"lat\"] > 40) & (Mdata[\"lat\"] < 55) & (Mdata[\"lon\"] > -120) & (Mdata[\"lon\"] < -100)]\n",
    "Mdata_area = Mdata_clean.groupby(\"county_name\")[[\"lat\",\"lon\"]].std()\n",
    "Mdata_area.tail()"
   ]
  },
  {
   "cell_type": "code",
   "execution_count": 59,
   "metadata": {},
   "outputs": [
    {
     "data": {
      "image/png": "[encoded data removed]",
      "text/plain": [
       "<matplotlib.figure.Figure at 0x11c9dbe0>"
      ]
     },
     "metadata": {},
     "output_type": "display_data"
    }
   ],
   "source": [
    "plt.subplot(2,1,1)\n",
    "Mdata_clean[\"lon\"].hist(bins=100)\n",
    "plt.title(\"lon\", loc=\"right\")\n",
    "plt.subplot(2,1,2)\n",
    "Mdata_clean[\"lat\"].hist(bins=100)\n",
    "plt.title(\"lat\", loc=\"right\")\n",
    "plt.show()"
   ]
  },
  {
   "cell_type": "code",
   "execution_count": 82,
   "metadata": {
    "collapsed": true
   },
   "outputs": [],
   "source": [
    "Mdata_area[\"area\"] = Mdata_area[\"lat\"] * Mdata_area[\"lon\"] * 111.0 * 111.0 \n",
    "Mdata_area[\"area\"] = Mdata_area[\"area\"].multiply(Mdata_area[\"lat\"].apply(cos))"
   ]
  },
  {
   "cell_type": "code",
   "execution_count": 84,
   "metadata": {},
   "outputs": [
    {
     "data": {
      "text/plain": [
       "1016.112071239203"
      ]
     },
     "execution_count": 84,
     "metadata": {},
     "output_type": "execute_result"
    }
   ],
   "source": [
    "Mdata_area.sort_values(\"area\", ascending=False, inplace=True)\n",
    "Mdata_area[\"area\"][0]"
   ]
  },
  {
   "cell_type": "code",
   "execution_count": null,
   "metadata": {},
   "outputs": [],
   "source": []
  },
  {
   "cell_type": "code",
   "execution_count": null,
   "metadata": {},
   "outputs": [],
   "source": []
  },
  {
   "cell_type": "code",
   "execution_count": null,
   "metadata": {
    "collapsed": true
   },
   "outputs": [],
   "source": []
  }
 ],
 "metadata": {
  "kernelspec": {
   "display_name": "Python 3",
   "language": "python",
   "name": "python3"
  },
  "language_info": {
   "codemirror_mode": {
    "name": "ipython",
    "version": 3
   },
   "file_extension": ".py",
   "mimetype": "text/x-python",
   "name": "python",
   "nbconvert_exporter": "python",
   "pygments_lexer": "ipython3",
   "version": "3.6.1"
  }
 },
 "nbformat": 4,
 "nbformat_minor": 2
}
