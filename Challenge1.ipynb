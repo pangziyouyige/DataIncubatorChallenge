{
 "cells": [
  {
   "cell_type": "code",
   "execution_count": 3,
   "metadata": {
    "collapsed": true
   },
   "outputs": [],
   "source": [
    "import numpy as np\n",
    "import matplotlib.pyplot as plt"
   ]
  },
  {
   "cell_type": "code",
   "execution_count": null,
   "metadata": {},
   "outputs": [],
   "source": [
    "np.random.seed(123)"
   ]
  },
  {
   "cell_type": "code",
   "execution_count": 95,
   "metadata": {},
   "outputs": [],
   "source": [
    "# Random walk. If the random number is 0, move towards north, if the random number is 1, move towards to east \n",
    "def antwalk(n, m):\n",
    "    deviation = [0]\n",
    "    x, y = 0, 0\n",
    "    xlist = [x]\n",
    "    ylist = [y]\n",
    "    while x<n and y<m:\n",
    "\n",
    "        direction = np.random.randint(0,2)\n",
    "        if direction ==0:\n",
    "            x += 1\n",
    "        else:\n",
    "            y += 1\n",
    "        xlist.append(x)\n",
    "        ylist.append(y)\n",
    "        deviation.append(max(x/m-y/n, y/n-x/m))\n",
    "        \n",
    "    while x==n and y<m:\n",
    "        y += 1\n",
    "        xlist.append(xlist[-1])\n",
    "        ylist.append(y)\n",
    "        deviation.append(max(x/m-y/n, y/n-x/m))\n",
    "        \n",
    "    while x<n and y==m:\n",
    "        x += 1\n",
    "        xlist.append(x)\n",
    "        ylist.append(ylist[-1])\n",
    "        deviation.append(max(x/m-y/n, y/n-x/m))\n",
    "        \n",
    "    return (deviation)\n"
   ]
  },
  {
   "cell_type": "code",
   "execution_count": 108,
   "metadata": {},
   "outputs": [
    {
     "name": "stdout",
     "output_type": "stream",
     "text": [
      "0.383974162679 0.138923177204\n"
     ]
    }
   ],
   "source": [
    "total =[]\n",
    "for i in range(10000):\n",
    "    deviation= antwalk(7, 11)\n",
    "    total.append(np.mean(deviation))\n",
    "print(np.mean(total), np.std(total))"
   ]
  },
  {
   "cell_type": "code",
   "execution_count": null,
   "metadata": {
    "collapsed": true
   },
   "outputs": [],
   "source": [
    "'''\n",
    "What is the mean of DD when m=11m=11 and n=7n=7?    Mean=0.383974162679    \n",
    "What is the standard deviation DD when m=11m=11 and n=7n=7? Sd = 0.138923177204\n",
    "\n",
    "'''"
   ]
  },
  {
   "cell_type": "code",
   "execution_count": 109,
   "metadata": {},
   "outputs": [
    {
     "name": "stdout",
     "output_type": "stream",
     "text": [
      "0.221255759276 0.0932401142889\n"
     ]
    }
   ],
   "source": [
    "total =[]\n",
    "for i in range(10000):\n",
    "    deviation= antwalk(31, 23)\n",
    "    total.append(np.mean(deviation))\n",
    "print(np.mean(total), np.std(total))"
   ]
  },
  {
   "cell_type": "code",
   "execution_count": null,
   "metadata": {},
   "outputs": [],
   "source": [
    "'''\n",
    "What is the mean of DD when m=11m=11 and n=7n=7?    Mean=0.221255759276   \n",
    "What is the standard deviation DD when m=11m=11 and n=7n=7? Sd = 0.0932401142889\n",
    "\n",
    "'''"
   ]
  },
  {
   "cell_type": "code",
   "execution_count": 110,
   "metadata": {},
   "outputs": [
    {
     "data": {
      "text/plain": [
       "0.097900000000000001"
      ]
     },
     "execution_count": 110,
     "metadata": {},
     "output_type": "execute_result"
    }
   ],
   "source": [
    "total =[]\n",
    "for i in range(10000):\n",
    "    deviation= antwalk(7, 11)\n",
    "    total.append(np.mean(deviation))\n",
    "total=np.array(total)\n",
    "np.sum(total>0.6)/np.sum(total>0.2)"
   ]
  },
  {
   "cell_type": "code",
   "execution_count": null,
   "metadata": {},
   "outputs": [],
   "source": [
    "\"\"\"\n",
    "What is the conditional probability that D is greater than 0.6 given that it is greater than 0.2 when m=11 and n=7?\n",
    "0.097900000000000001\n",
    "\"\"\""
   ]
  },
  {
   "cell_type": "code",
   "execution_count": 111,
   "metadata": {},
   "outputs": [
    {
     "data": {
      "text/plain": [
       "0.0010438413361169101"
      ]
     },
     "execution_count": 111,
     "metadata": {},
     "output_type": "execute_result"
    }
   ],
   "source": [
    "total =[]\n",
    "for i in range(10000):\n",
    "    deviation= antwalk(31, 23)\n",
    "    total.append(np.mean(deviation))\n",
    "total=np.array(total)\n",
    "np.sum(total>0.6)/np.sum(total>0.2)"
   ]
  },
  {
   "cell_type": "code",
   "execution_count": null,
   "metadata": {
    "collapsed": true
   },
   "outputs": [],
   "source": [
    "\"\"\"\n",
    "What is the conditional probability that D is greater than 0.6 given that it is greater than 0.2 when m=11 and n=7?\n",
    "0.0010438413361169101\n",
    "\"\"\""
   ]
  },
  {
   "cell_type": "code",
   "execution_count": 112,
   "metadata": {},
   "outputs": [],
   "source": [
    "# Plot some walk\n",
    "def antplot(n, m):\n",
    "    deviation = []\n",
    "    x, y = 0, 0\n",
    "    xlist = [x]\n",
    "    ylist = [y]\n",
    "    while x<n and y<m:\n",
    "        direction = np.random.randint(0,2)\n",
    "        if direction ==0:\n",
    "            x += 1\n",
    "        else:\n",
    "            y += 1\n",
    "        xlist.append(x)\n",
    "        ylist.append(y)\n",
    "        deviation.append(max(x/m-y/n, y/n-x/m))\n",
    "    while x==n and y<m:\n",
    "        y += 1\n",
    "        xlist.append(xlist[-1])\n",
    "        ylist.append(y)\n",
    "        deviation.append(max(x/m-y/n, y/n-x/m))\n",
    "    while x<n and y==m:\n",
    "        x += 1\n",
    "        xlist.append(x)\n",
    "        ylist.append(ylist[-1])\n",
    "        deviation.append(max(x/m-y/n, y/n-x/m))\n",
    "    plt.plot(xlist, ylist)\n",
    "    plt.xlim(0-1,n+1)\n",
    "    plt.ylim(0-1,m+1)\n",
    "    plt.scatter([0,n],[0,m], c=\"red\", s=100)\n",
    "    plt.grid()\n",
    "    plt.show()"
   ]
  },
  {
   "cell_type": "code",
   "execution_count": 117,
   "metadata": {},
   "outputs": [
    {
     "data": {
      "image/png": "[encoded data removed]",
      "text/plain": [
       "<matplotlib.figure.Figure at 0x80d04a8>"
      ]
     },
     "metadata": {},
     "output_type": "display_data"
    }
   ],
   "source": [
    "antplot(7,11)"
   ]
  }
 ],
 "metadata": {
  "kernelspec": {
   "display_name": "Python 3",
   "language": "python",
   "name": "python3"
  },
  "language_info": {
   "codemirror_mode": {
    "name": "ipython",
    "version": 3
   },
   "file_extension": ".py",
   "mimetype": "text/x-python",
   "name": "python",
   "nbconvert_exporter": "python",
   "pygments_lexer": "ipython3",
   "version": "3.6.1"
  }
 },
 "nbformat": 4,
 "nbformat_minor": 2
}
